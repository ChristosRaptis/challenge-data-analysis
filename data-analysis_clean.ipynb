{
 "cells": [
  {
   "cell_type": "code",
   "execution_count": null,
   "metadata": {},
   "outputs": [],
   "source": [
    "import pandas as pd\n",
    "import numpy as np\n",
    "import re\n",
    "import seaborn as sns\n",
    "from matplotlib import pyplot as plt\n",
    "from scipy import stats"
   ]
  },
  {
   "cell_type": "code",
   "execution_count": null,
   "metadata": {},
   "outputs": [],
   "source": [
    "immo_dataset = pd.read_csv('fulldata.csv')\n",
    "\n",
    "immo_dataset.head(15)\n"
   ]
  },
  {
   "cell_type": "code",
   "execution_count": null,
   "metadata": {},
   "outputs": [],
   "source": [
    "immo_dataset.info()"
   ]
  },
  {
   "attachments": {},
   "cell_type": "markdown",
   "metadata": {},
   "source": [
    "Data Cleaning\n",
    "\n",
    "Fill empty values"
   ]
  },
  {
   "cell_type": "code",
   "execution_count": null,
   "metadata": {},
   "outputs": [],
   "source": [
    "missing_percentage = immo_dataset.isna().mean() * 100\n",
    "print(missing_percentage)"
   ]
  },
  {
   "attachments": {},
   "cell_type": "markdown",
   "metadata": {},
   "source": [
    "Replace space in postal_code"
   ]
  },
  {
   "cell_type": "code",
   "execution_count": null,
   "metadata": {},
   "outputs": [],
   "source": [
    "immo_dataset['postal_code'] = immo_dataset['postal_code'].str.replace(' ', '')"
   ]
  },
  {
   "attachments": {},
   "cell_type": "markdown",
   "metadata": {},
   "source": [
    "Remove letters from postal codes."
   ]
  },
  {
   "cell_type": "code",
   "execution_count": null,
   "metadata": {},
   "outputs": [],
   "source": [
    "immo_dataset['postal_code'] = immo_dataset['postal_code'].str.replace('MK', '')\n",
    "immo_dataset['postal_code'] = immo_dataset['postal_code'].str.replace('AN', '')\n",
    "immo_dataset['postal_code'] = immo_dataset['postal_code'].str.replace('KA', '')\n",
    "immo_dataset['postal_code'] = immo_dataset['postal_code'].str.replace('AG', '')"
   ]
  },
  {
   "attachments": {},
   "cell_type": "markdown",
   "metadata": {},
   "source": [
    "Remove erronous Postal Codes (with more than 4 digits)"
   ]
  },
  {
   "cell_type": "code",
   "execution_count": null,
   "metadata": {},
   "outputs": [],
   "source": [
    "res = immo_dataset[immo_dataset['postal_code'].map(lambda x: len(x) >= 5)]\n",
    "immo_dataset.drop(res.index, inplace=True)\n",
    "print(immo_dataset['postal_code'].unique())\n",
    "print(immo_dataset.shape)"
   ]
  },
  {
   "attachments": {},
   "cell_type": "markdown",
   "metadata": {},
   "source": [
    "We dropped columns from main data because it had hight % of missing values."
   ]
  },
  {
   "cell_type": "code",
   "execution_count": null,
   "metadata": {},
   "outputs": [],
   "source": [
    "drop_columns = ['locality', 'contruction_year', 'subtype_property', 'living_area', 'kitchen_fully_equiped', 'terrace_area', 'garden_surface', 'plot_land_surface', 'number_of_facades', 'building_state']\n",
    "immo_dataset.drop(drop_columns , axis=1, inplace=True)\n",
    "immo_dataset.head(10)\n",
    "\n"
   ]
  },
  {
   "attachments": {},
   "cell_type": "markdown",
   "metadata": {},
   "source": [
    "Define duplicates."
   ]
  },
  {
   "cell_type": "code",
   "execution_count": null,
   "metadata": {},
   "outputs": [],
   "source": [
    "duplicate_rows = immo_dataset.duplicated()\n",
    "duplicate_data = immo_dataset[duplicate_rows]\n",
    "\n",
    "print(duplicate_data)"
   ]
  },
  {
   "cell_type": "code",
   "execution_count": null,
   "metadata": {},
   "outputs": [],
   "source": [
    "immo_dataset = immo_dataset.reset_index(drop=True)"
   ]
  },
  {
   "attachments": {},
   "cell_type": "markdown",
   "metadata": {},
   "source": [
    "Remove duplicates."
   ]
  },
  {
   "cell_type": "code",
   "execution_count": null,
   "metadata": {},
   "outputs": [],
   "source": [
    "immo_dataset.drop_duplicates(inplace=True)\n",
    "immo_dataset.to_csv('immo_clean1.csv')"
   ]
  },
  {
   "cell_type": "code",
   "execution_count": null,
   "metadata": {},
   "outputs": [],
   "source": [
    "immo_dataset.info()"
   ]
  },
  {
   "attachments": {},
   "cell_type": "markdown",
   "metadata": {},
   "source": [
    "Remove spaces from columns with objects."
   ]
  },
  {
   "cell_type": "code",
   "execution_count": null,
   "metadata": {},
   "outputs": [],
   "source": [
    "#remove space from all columns\n",
    "immo_dataset_space_removed = immo_dataset.apply(lambda x: x.str.strip() if x.dtype == \"object\" else x)\n",
    "print(immo_dataset_space_removed)"
   ]
  },
  {
   "attachments": {},
   "cell_type": "markdown",
   "metadata": {},
   "source": [
    "Count empty values."
   ]
  },
  {
   "cell_type": "code",
   "execution_count": null,
   "metadata": {},
   "outputs": [],
   "source": [
    "#Find empty values\n",
    "empty_values = immo_dataset.isna()\n",
    "\n",
    "#Count the number of empty values in each column\n",
    "empty_count = empty_values.sum()\n",
    "\n",
    "#Display the columns with empty values\n",
    "print(\"Columns with empty values:\")\n",
    "print(empty_count[empty_count > 0])"
   ]
  },
  {
   "attachments": {},
   "cell_type": "markdown",
   "metadata": {},
   "source": [
    "Data Analysis"
   ]
  },
  {
   "cell_type": "code",
   "execution_count": null,
   "metadata": {},
   "outputs": [],
   "source": [
    "immo_dataset.shape"
   ]
  },
  {
   "cell_type": "code",
   "execution_count": null,
   "metadata": {},
   "outputs": [],
   "source": [
    "immo_dataset.info()\n"
   ]
  },
  {
   "attachments": {},
   "cell_type": "markdown",
   "metadata": {},
   "source": [
    "Percentage of empty values."
   ]
  },
  {
   "cell_type": "code",
   "execution_count": null,
   "metadata": {},
   "outputs": [],
   "source": [
    "missing_percentage = immo_dataset.isna().mean() * 100\n",
    "print(missing_percentage)"
   ]
  },
  {
   "attachments": {},
   "cell_type": "markdown",
   "metadata": {},
   "source": [
    "\n",
    "Find correlation between price and other variables"
   ]
  },
  {
   "cell_type": "code",
   "execution_count": null,
   "metadata": {},
   "outputs": [],
   "source": [
    "\n",
    "categorical_columns = ['region', 'property_type', 'type_of_sale']\n",
    "# Convert the categorical 'locality' column to numerical using one-hot encoding\n",
    "encoded_data = pd.get_dummies(immo_dataset, columns=categorical_columns)\n",
    "\n",
    "correlation_coefficient = encoded_data.corr()[['price']]\n",
    "\n",
    "# Print the correlation coefficients\n",
    "\n",
    "print(correlation_coefficient.sort_values(by=['price'], ascending=False))"
   ]
  },
  {
   "attachments": {},
   "cell_type": "markdown",
   "metadata": {},
   "source": [
    "Remove 'type_of_sale' column."
   ]
  },
  {
   "cell_type": "code",
   "execution_count": null,
   "metadata": {},
   "outputs": [],
   "source": [
    "drop_columns_type = ['type_of_sale']\n",
    "immo_dataset_no_type_of_sale = immo_dataset.drop(drop_columns_type, axis=1)\n",
    "immo_dataset_no_type_of_sale.head(10)"
   ]
  },
  {
   "attachments": {},
   "cell_type": "markdown",
   "metadata": {},
   "source": [
    "Plot correlation between price and other variables."
   ]
  },
  {
   "cell_type": "code",
   "execution_count": null,
   "metadata": {},
   "outputs": [],
   "source": [
    "# Define categorical columns.\n",
    "categorical_columns = ['region', 'property_type']\n",
    "\n",
    "# Convert the categorical 'locality' column to numerical using one-hot encoding\n",
    "encoded_data = pd.get_dummies(immo_dataset_no_type_of_sale, columns=categorical_columns)\n",
    "\n",
    "# Calculate the correlation using Pearson method\n",
    "pearson_corr = encoded_data.corr(method='pearson')\n",
    "\n",
    "# Sort the correlation values in descending order\n",
    "sorted_correlation = pearson_corr.sort_values(by='price',ascending=False)\n",
    "\n",
    "# Plotting the graph\n",
    "plt.figure(figsize=(10, 6))\n",
    "plt.bar(sorted_correlation.index, sorted_correlation['price'])\n",
    "plt.xlabel('Variables')\n",
    "plt.ylabel('Correlation Coefficient (no units)')\n",
    "plt.title('Correlation between Price and Other Variables')\n",
    "plt.xticks(rotation=80)\n",
    "plt.show()\n"
   ]
  },
  {
   "attachments": {},
   "cell_type": "markdown",
   "metadata": {},
   "source": [
    "Plot Correlation Heatmap."
   ]
  },
  {
   "cell_type": "code",
   "execution_count": null,
   "metadata": {},
   "outputs": [],
   "source": [
    "# Define categorical columns.\n",
    "categorical_columns = ['region', 'property_type']\n",
    "\n",
    "# Convert the categorical 'locality' column to numerical using one-hot encoding\n",
    "encoded_data = pd.get_dummies(immo_dataset_no_type_of_sale, columns=categorical_columns)\n",
    "\n",
    "# Calculate the correlation using Pearson method\n",
    "pearson_corr = encoded_data.corr(method='pearson')\n",
    "# pearson_corr_filtered = pearson_corr[pearson_corr >= 0.5].sort_values(by= 'price', ascending=False)\n",
    "\n",
    "# Plotting the correlation heatmap\n",
    "plt.figure(figsize=(16, 16))\n",
    "sns.heatmap(pearson_corr, annot=True, cmap='coolwarm')\n",
    "plt.title('Pearson Correlation Heatmap')\n",
    "plt.show()"
   ]
  },
  {
   "attachments": {},
   "cell_type": "markdown",
   "metadata": {},
   "source": [
    "How are variables correlated to each other? "
   ]
  },
  {
   "attachments": {},
   "cell_type": "markdown",
   "metadata": {},
   "source": [
    "There is a positive correlation between number of rooms and habitable surface.\n",
    "Also positive correlation between number of rooms and type of property:house.\n",
    "Positive correaltion between price and habitable surface."
   ]
  },
  {
   "attachments": {},
   "cell_type": "markdown",
   "metadata": {},
   "source": [
    "Calculate correlation of all variables between them."
   ]
  },
  {
   "cell_type": "code",
   "execution_count": null,
   "metadata": {},
   "outputs": [],
   "source": [
    "# Define categorical columns.\n",
    "categorical_columns = ['region', 'property_type']\n",
    "# Convert the categorical 'locality' column to numerical using one-hot encoding\n",
    "encoded_data = pd.get_dummies(immo_dataset_no_type_of_sale, columns=categorical_columns)\n",
    "\n",
    "# Calculate correlation coefficient.\n",
    "correlation_coefficient = encoded_data.corr()\n",
    "\n",
    "# Print the correlation coefficients\n",
    "print(correlation_coefficient)"
   ]
  },
  {
   "attachments": {},
   "cell_type": "markdown",
   "metadata": {},
   "source": [
    "Which variables have the greatest influence on the price?"
   ]
  },
  {
   "attachments": {},
   "cell_type": "markdown",
   "metadata": {},
   "source": [
    "The variables with the most influence on property price are:\n",
    "\n",
    "Habitable surface\n",
    "\n",
    "Number of rooms\n",
    "\n",
    "Presence of swimming pool\n",
    "\n",
    "Region: Brussels\n",
    "\n",
    "Presence of terrace.\n",
    "\n"
   ]
  },
  {
   "attachments": {},
   "cell_type": "markdown",
   "metadata": {},
   "source": [
    "Which variables have the least influence on the price?"
   ]
  },
  {
   "attachments": {},
   "cell_type": "markdown",
   "metadata": {},
   "source": [
    "The variables with the least influence on price are:\n",
    "\n",
    "Region:Flanders\n",
    "\n",
    "If it is furnished\n",
    "\n",
    "If it has open fire"
   ]
  },
  {
   "attachments": {},
   "cell_type": "markdown",
   "metadata": {},
   "source": [
    "How many qualitative and quantitative variables are there? How would you transform these values into numerical values?"
   ]
  },
  {
   "attachments": {},
   "cell_type": "markdown",
   "metadata": {},
   "source": [
    "We have three quantitative and eight qualitative variables."
   ]
  },
  {
   "cell_type": "code",
   "execution_count": null,
   "metadata": {},
   "outputs": [],
   "source": [
    "immo_dataset_no_type_of_sale.info()"
   ]
  },
  {
   "attachments": {},
   "cell_type": "markdown",
   "metadata": {},
   "source": [
    "Percentage of missing values per column?\n",
    "\n"
   ]
  },
  {
   "cell_type": "code",
   "execution_count": null,
   "metadata": {},
   "outputs": [],
   "source": [
    "missing_percentage = immo_dataset_no_type_of_sale.isna().mean() * 100\n",
    "print(missing_percentage)"
   ]
  },
  {
   "attachments": {},
   "cell_type": "markdown",
   "metadata": {},
   "source": [
    "Step 3 : Data Interpretation"
   ]
  },
  {
   "attachments": {},
   "cell_type": "markdown",
   "metadata": {},
   "source": [
    "Plot the outliers."
   ]
  },
  {
   "cell_type": "code",
   "execution_count": null,
   "metadata": {},
   "outputs": [],
   "source": [
    "#Convert 'price' column to Pandas Series\n",
    "price_series = pd.Series(immo_dataset_no_type_of_sale['price'])\n",
    "\n",
    "#Create the scatter plot\n",
    "plt.scatter(range(len(price_series)), price_series)\n",
    "\n",
    "#Set plot title and labels\n",
    "plt.title('Scatter plot for Price Variation')\n",
    "plt.xlabel('Listing Index')\n",
    "plt.ylabel('Price: 100.000 euros')\n",
    "\n",
    "#Display the scatter plot\n",
    "plt.show()"
   ]
  },
  {
   "attachments": {},
   "cell_type": "markdown",
   "metadata": {},
   "source": [
    "Which variables would you delete and why ?\n"
   ]
  },
  {
   "attachments": {},
   "cell_type": "markdown",
   "metadata": {},
   "source": [
    " 'contruction_year',  'living_area', 'kitchen_fully_equiped', 'terrace_area', 'garden_surface', 'plot_land_surface', 'number_of_facades', 'building_state'\n",
    "\n",
    "We deleted the above variables beacause they had a significant percentage of missing values.\n",
    "\n",
    "'subtype_property',type_of_sale. \n",
    "\n",
    "We deleted the above variables beacause they had no significant influence on the price of properties.\n",
    "\n",
    "'locality',\n",
    "\n",
    "we deleted this variable because it wasn't useful to our analysis, we used postal code instead."
   ]
  },
  {
   "attachments": {},
   "cell_type": "markdown",
   "metadata": {},
   "source": [
    "Represent the number of properties according to their surface using a histogram.\n"
   ]
  },
  {
   "cell_type": "code",
   "execution_count": null,
   "metadata": {},
   "outputs": [],
   "source": [
    "# Extract the 'habitable_surface' data\n",
    "surface = immo_dataset['habitable_surface']\n",
    "\n",
    "# Create the histogram\n",
    "plt.hist(surface, bins=50, edgecolor='black')\n",
    "\n",
    "# Label the axes and add a title\n",
    "plt.xlabel('Surface (sq. meters)')\n",
    "plt.ylabel('Number of Properties')\n",
    "plt.title('Number of properties according to their surface')\n",
    "\n",
    "# Display the histogram\n",
    "plt.show()\n",
    "\n"
   ]
  },
  {
   "attachments": {},
   "cell_type": "markdown",
   "metadata": {},
   "source": [
    "In your opinion, which 5 variables are the most important and why?\n"
   ]
  },
  {
   "attachments": {},
   "cell_type": "markdown",
   "metadata": {},
   "source": [
    "The variables with the most influence on property price are:\n",
    "\n",
    "Habitable surface: the biggest the surface the biggest the price.\n",
    "\n",
    "Number of rooms : construction cost increases as the number of room increases.\n",
    "\n",
    "Presence of swimming pool: it is a luxury.\n",
    "\n",
    "Region: Brussels : great population density -> higher demand over supply\n",
    "\n",
    "Presence of terrace: convenience, being able to sit and drink your coffee."
   ]
  },
  {
   "attachments": {},
   "cell_type": "markdown",
   "metadata": {},
   "source": [
    "What are the most expensive municipalities in Belgium? (Average price, median price, price per square meter)\n"
   ]
  },
  {
   "cell_type": "code",
   "execution_count": 63,
   "metadata": {},
   "outputs": [
    {
     "name": "stdout",
     "output_type": "stream",
     "text": [
      "Most Expensive Regions in Belgium:\n",
      "             average_price  median_price\n",
      "postal_code                             \n",
      "4508          1.695000e+06     1695000.0\n",
      "8300          1.345862e+06      942500.0\n",
      "9688          1.327000e+06     1327000.0\n",
      "1640          1.235385e+06      995000.0\n",
      "1851          1.075000e+06     1075000.0\n"
     ]
    }
   ],
   "source": [
    "# Calculate price per square meter\n",
    "immo_dataset['price_per_sqm'] = immo_dataset['price'] / immo_dataset['habitable_surface']\n",
    "\n",
    "# Group by region and calculate the average price, median price, and price per square meter\n",
    "region_stats = immo_dataset.groupby('postal_code').agg(\n",
    "    average_price=('price', 'mean'),\n",
    "    median_price=('price', 'median')    \n",
    ")\n",
    "\n",
    "# Sort the regions based on the index (region names) in ascending order\n",
    "sorted_regions = region_stats.sort_index()\n",
    "\n",
    "# Sort the regions based on the average price in descending order\n",
    "most_expensive_regions = region_stats.sort_values(by='average_price', ascending=False).head(5)\n",
    "\n",
    "# Print the most expensive regions and their corresponding statistics\n",
    "print(\"Most Expensive Regions in Belgium:\")\n",
    "print(most_expensive_regions)\n",
    "\n"
   ]
  },
  {
   "cell_type": "code",
   "execution_count": null,
   "metadata": {},
   "outputs": [],
   "source": [
    "# Plotting the most expensive regions\n",
    "plt.figure(figsize=(10, 6))\n",
    "most_expensive_regions['average_price'].plot(kind='bar')\n",
    "plt.title('Most Expensive Regions in Belgium')\n",
    "plt.xlabel('Region')\n",
    "plt.ylabel('Average Price')\n",
    "plt.xticks(rotation=45)\n",
    "plt.tight_layout()\n",
    "plt.show()"
   ]
  },
  {
   "cell_type": "code",
   "execution_count": 65,
   "metadata": {},
   "outputs": [
    {
     "data": {
      "text/plain": [
       "<function matplotlib.pyplot.show(close=None, block=None)>"
      ]
     },
     "execution_count": 65,
     "metadata": {},
     "output_type": "execute_result"
    },
    {
     "data": {
      "image/png": "[encoded data removed]",
      "text/plain": [
       "<Figure size 1000x600 with 1 Axes>"
      ]
     },
     "metadata": {},
     "output_type": "display_data"
    }
   ],
   "source": [
    "#Calculate price per square meter\n",
    "immo_dataset['price_per_sqm'] = immo_dataset['price'] / immo_dataset['habitable_surface']\n",
    "\n",
    "#Group by postal code and calculate the average price_per_sqm\n",
    "postal_code_stats = immo_dataset.groupby('postal_code')['price_per_sqm'].mean()\n",
    "\n",
    "#Sort the postal codes based on the average price_per_sqm in descending order\n",
    "top_5_postal_codes = postal_code_stats.nlargest(5)\n",
    "\n",
    "#Plotting the average price_per_sqm for the top 5 postal codes\n",
    "plt.figure(figsize=(10, 6))\n",
    "plt.bar(top_5_postal_codes.index, top_5_postal_codes.values)\n",
    "plt.title('Top 5 Postal Codes with Highest Average Price per Square Meter')\n",
    "plt.xlabel('Postal Code')\n",
    "plt.ylabel('Average Price per Square Meter')\n",
    "plt.xticks(rotation=45)\n",
    "plt.tight_layout()\n",
    "plt.savefig('top_5_price_per_sqm.jpg')  # Save the image\n",
    "plt.show\n"
   ]
  },
  {
   "attachments": {},
   "cell_type": "markdown",
   "metadata": {},
   "source": [
    "What are the most expensive municipalities in Wallonia? (Average price, median price, price per square meter)\n"
   ]
  },
  {
   "cell_type": "code",
   "execution_count": null,
   "metadata": {},
   "outputs": [],
   "source": [
    "\n",
    "# Filter the dataframe to include only Wallonia (Wallonie) region\n",
    "wallonia_data = immo_dataset[immo_dataset['region'] == 'Wallonie']\n",
    "\n",
    "# Group by postal code and calculate the average price\n",
    "postal_code_stats = wallonia_data.groupby('postal_code')['price'].median()\n",
    "\n",
    "# Sort the postal codes based on the average price in descending order\n",
    "most_expensive_postal_codes = postal_code_stats.sort_values(ascending=False).head(10)\n",
    "\n",
    "# Plotting the top 10 most expensive postal codes in Wallonia\n",
    "plt.figure(figsize=(10, 6))\n",
    "most_expensive_postal_codes.plot(kind='bar')\n",
    "plt.title('Top 5 Most Expensive Postal Codes in Wallonia')\n",
    "plt.xlabel('Postal Code')\n",
    "plt.ylabel('Average Price')\n",
    "plt.xticks(rotation=45)\n",
    "plt.tight_layout()\n",
    "plt.show()\n"
   ]
  },
  {
   "attachments": {},
   "cell_type": "markdown",
   "metadata": {},
   "source": [
    "What are the most expensive municipalities in Flanders? (Average price, median price, price per square meter)\n"
   ]
  },
  {
   "cell_type": "code",
   "execution_count": null,
   "metadata": {},
   "outputs": [],
   "source": [
    "# Filter the dataframe to include only Flanders region\n",
    "flanders_data = immo_dataset[immo_dataset['region'] == 'Flanders']\n",
    "\n",
    "# Group by postal code and calculate the average price\n",
    "postal_code_stats = flanders_data.groupby('postal_code')['price'].mean()\n",
    "\n",
    "# Sort the postal codes based on the average price in descending order\n",
    "top_10_expensive_postal_codes = postal_code_stats.nlargest(5)\n",
    "\n",
    "# Plotting the top 10 most expensive postal codes in Flanders\n",
    "plt.figure(figsize=(10, 6))\n",
    "top_10_expensive_postal_codes.plot(kind='bar')\n",
    "plt.title('Top 5 Most Expensive Postal Codes in Flanders')\n",
    "plt.xlabel('Postal Code')\n",
    "plt.ylabel('Average Price')\n",
    "plt.xticks(rotation=45)\n",
    "plt.tight_layout()\n",
    "plt.show()"
   ]
  },
  {
   "attachments": {},
   "cell_type": "markdown",
   "metadata": {},
   "source": [
    "What are the less expensive municipalities in Belgium? (Average price, median price, price per square meter)\n"
   ]
  },
  {
   "cell_type": "code",
   "execution_count": null,
   "metadata": {},
   "outputs": [],
   "source": [
    "\n",
    "# Group by postal code and calculate the average price, median price, and price per square meter\n",
    "postal_code_stats = immo_dataset.groupby('postal_code').agg(\n",
    "    average_price=('price', 'mean'),\n",
    "    median_price=('price', 'median'),\n",
    "    average_price_per_sqm=('price_per_sqm', 'mean')\n",
    ")\n",
    "\n",
    "# Sort the postal codes based on the average price in ascending order\n",
    "least_expensive_postal_codes = postal_code_stats.nsmallest(10, 'average_price').head(5)\n",
    "\n",
    "# Plotting the least expensive postal codes\n",
    "plt.figure(figsize=(10, 6))\n",
    "least_expensive_postal_codes['average_price'].plot(kind='bar')\n",
    "plt.title('Top 5 Least Expensive Postal Codes in Belgium')\n",
    "plt.xlabel('Postal Code')\n",
    "plt.ylabel('Average Price')\n",
    "plt.xticks(rotation=45)\n",
    "plt.tight_layout()\n",
    "plt.savefig('Top 10 Least Expensive Postal Codes in Belgium.jpg')\n",
    "plt.show()\n"
   ]
  },
  {
   "attachments": {},
   "cell_type": "markdown",
   "metadata": {},
   "source": [
    "What are the less expensive municipalities in Wallonia? (Average price, median price, price per square meter)\n"
   ]
  },
  {
   "cell_type": "code",
   "execution_count": null,
   "metadata": {},
   "outputs": [],
   "source": [
    "\n",
    "# Filter the dataset for Wallonia\n",
    "wallonia_dataset = immo_dataset[immo_dataset['region'] == 'Wallonie']\n",
    "\n",
    "# Group by postal code and calculate the average price, median price, and price per square meter\n",
    "postal_code_stats = wallonia_dataset.groupby('postal_code').agg(\n",
    "    average_price=('price', 'mean'),\n",
    "    median_price=('price', 'median'),\n",
    "    average_price_per_sqm=('price', 'price_per_sqm')\n",
    ")\n",
    "\n",
    "# Sort the postal codes based on the average price in ascending order\n",
    "least_expensive_postal_codes_average = postal_code_stats.nsmallest(5, 'average_price')\n",
    "least_expensive_postal_codes_median = postal_code_stats.nsmallest(5, 'median_price')\n",
    "least_expensive_postal_codes_price_per_sq_meter = postal_code_stats.nsmallest(5, 'price_per_sqm')\n",
    "# Plotting the least expensive postal codes in Wallonia\n",
    "plt.figure(figsize=(10, 6))\n",
    "least_expensive_postal_codes['average_price'].plot(kind='bar')\n",
    "plt.title('Top 5 Least Expensive Postal Codes in Wallonia')\n",
    "plt.xlabel('Postal Code')\n",
    "plt.ylabel('Average Price')\n",
    "plt.xticks(rotation=45)\n",
    "plt.tight_layout()\n",
    "plt.savefig('least_expensive_wallonia.jpg')  # Save the image\n",
    "plt.show()\n"
   ]
  },
  {
   "cell_type": "code",
   "execution_count": null,
   "metadata": {},
   "outputs": [],
   "source": [
    "\n",
    "mean_values = least_expensive_postal_codes_average['average_price']\n",
    "median_values = least_expensive_postal_codes_median['median_price']\n",
    "price_per_square_meter_values = least_expensive_postal_codes_price_per_sq_meter['price_per_sqm']\n",
    "#Generating x-axis labels for the bars\n",
    "labels = least_expensive_postal_codes.index\n",
    "x = np.arange(len(labels))\n",
    "\n",
    "#Width of the bars\n",
    "width = 0.35\n",
    "\n",
    "#Creating the figure and axes\n",
    "fig, ax = plt.subplots()\n",
    "\n",
    "#Plotting the mean values as blue bars\n",
    "ax.bar(x - width/2, mean_values, width, label='Mean', color='blue')\n",
    "\n",
    "#Plotting the median values as orange bars\n",
    "ax.bar(x + width/2, median_values, width, label='Median', color='orange')\n",
    "\n",
    "#Plotting the price per ssquare meter values as orange bars\n",
    "\n",
    "ax.bar(x + width, price_per_square_meter_values, width, label='Price per square meter', color='green')\n",
    "\n",
    "#Adding labels, title, and legend\n",
    "ax.set_xlabel('Postal Code')\n",
    "ax.set_ylabel('Price')\n",
    "ax.set_title('Mean, Median and pirice per square meter comparison - Least Expensive Postal Codes in Wallonia')\n",
    "ax.set_xticks(x)\n",
    "ax.set_xticklabels(labels)\n",
    "ax.legend()\n",
    "\n",
    "#Displaying the plot\n",
    "plt.show()"
   ]
  },
  {
   "attachments": {},
   "cell_type": "markdown",
   "metadata": {},
   "source": [
    "What are the less expensive municipalities in Flanders? (Average price, median price, price per square meter)\n"
   ]
  },
  {
   "cell_type": "code",
   "execution_count": null,
   "metadata": {},
   "outputs": [],
   "source": [
    "\n",
    "# Filter the dataset for Flanders\n",
    "flanders_dataset = immo_dataset[immo_dataset['region'] == 'Flanders']\n",
    "\n",
    "# Group by postal code and calculate the average price, median price, and price per square meter\n",
    "postal_code_stats = flanders_dataset.groupby('postal_code').agg(\n",
    "    average_price=('price', 'mean'),\n",
    "    median_price=('price', 'median'),\n",
    "    average_price_per_sqm=('price_per_sqm', 'mean')\n",
    ")\n",
    "\n",
    "# Sort the postal codes based on the average price in ascending order\n",
    "least_expensive_postal_codes = postal_code_stats.nsmallest(5, 'average_price')\n",
    "\n",
    "# Plotting the least expensive postal codes in Flanders\n",
    "plt.figure(figsize=(10, 6))\n",
    "least_expensive_postal_codes['average_price'].plot(kind='bar')\n",
    "plt.title('Top 5 Least Expensive Postal Codes in Flanders')\n",
    "plt.xlabel('Postal Code')\n",
    "plt.ylabel('Average Price')\n",
    "plt.xticks(rotation=45)\n",
    "plt.tight_layout()\n",
    "plt.savefig('least_expensive_flanders.jpg')  # Save the image\n",
    "plt.show()\n"
   ]
  }
 ],
 "metadata": {
  "kernelspec": {
   "display_name": "env",
   "language": "python",
   "name": "python3"
  },
  "language_info": {
   "codemirror_mode": {
    "name": "ipython",
    "version": 3
   },
   "file_extension": ".py",
   "mimetype": "text/x-python",
   "name": "python",
   "nbconvert_exporter": "python",
   "pygments_lexer": "ipython3",
   "version": "3.11.3"
  },
  "orig_nbformat": 4
 },
 "nbformat": 4,
 "nbformat_minor": 2
}
