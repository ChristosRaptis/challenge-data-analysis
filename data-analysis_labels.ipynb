{
 "cells": [
  {
   "cell_type": "code",
   "execution_count": 47,
   "metadata": {},
   "outputs": [],
   "source": [
    "import pandas as pd\n",
    "import numpy as np\n",
    "import re\n",
    "import seaborn as sns\n",
    "from matplotlib import pyplot as plt\n",
    "from scipy import stats"
   ]
  },
  {
   "cell_type": "code",
   "execution_count": 48,
   "metadata": {},
   "outputs": [
    {
     "data": {
      "text/html": [
       "<div>\n",
       "<style scoped>\n",
       "    .dataframe tbody tr th:only-of-type {\n",
       "        vertical-align: middle;\n",
       "    }\n",
       "\n",
       "    .dataframe tbody tr th {\n",
       "        vertical-align: top;\n",
       "    }\n",
       "\n",
       "    .dataframe thead th {\n",
       "        text-align: right;\n",
       "    }\n",
       "</style>\n",
       "<table border=\"1\" class=\"dataframe\">\n",
       "  <thead>\n",
       "    <tr style=\"text-align: right;\">\n",
       "      <th></th>\n",
       "      <th>locality</th>\n",
       "      <th>postal_code</th>\n",
       "      <th>region</th>\n",
       "      <th>property_type</th>\n",
       "      <th>subtype_property</th>\n",
       "      <th>price</th>\n",
       "      <th>contruction_year</th>\n",
       "      <th>type_of_sale</th>\n",
       "      <th>number_of_rooms</th>\n",
       "      <th>living_area</th>\n",
       "      <th>...</th>\n",
       "      <th>has_open_fire</th>\n",
       "      <th>has_terrace</th>\n",
       "      <th>terrace_area</th>\n",
       "      <th>has_garden</th>\n",
       "      <th>garden_surface</th>\n",
       "      <th>habitable_surface</th>\n",
       "      <th>plot_land_surface</th>\n",
       "      <th>number_of_facades</th>\n",
       "      <th>has_swimming_pool</th>\n",
       "      <th>building_state</th>\n",
       "    </tr>\n",
       "  </thead>\n",
       "  <tbody>\n",
       "    <tr>\n",
       "      <th>0</th>\n",
       "      <td>Deinze</td>\n",
       "      <td>9800</td>\n",
       "      <td>Flanders</td>\n",
       "      <td>APARTMENT</td>\n",
       "      <td>APARTMENT</td>\n",
       "      <td>395000.0</td>\n",
       "      <td>2023.0</td>\n",
       "      <td>residential_sale</td>\n",
       "      <td>2</td>\n",
       "      <td>22.0</td>\n",
       "      <td>...</td>\n",
       "      <td>0</td>\n",
       "      <td>1</td>\n",
       "      <td>12.0</td>\n",
       "      <td>1</td>\n",
       "      <td>NaN</td>\n",
       "      <td>99.0</td>\n",
       "      <td>NaN</td>\n",
       "      <td>4.0</td>\n",
       "      <td>0</td>\n",
       "      <td>AS_NEW</td>\n",
       "    </tr>\n",
       "    <tr>\n",
       "      <th>1</th>\n",
       "      <td>Halle</td>\n",
       "      <td>1500</td>\n",
       "      <td>Flanders</td>\n",
       "      <td>HOUSE</td>\n",
       "      <td>HOUSE</td>\n",
       "      <td>385000.0</td>\n",
       "      <td>NaN</td>\n",
       "      <td>residential_sale</td>\n",
       "      <td>3</td>\n",
       "      <td>NaN</td>\n",
       "      <td>...</td>\n",
       "      <td>0</td>\n",
       "      <td>0</td>\n",
       "      <td>NaN</td>\n",
       "      <td>0</td>\n",
       "      <td>NaN</td>\n",
       "      <td>158.0</td>\n",
       "      <td>NaN</td>\n",
       "      <td>NaN</td>\n",
       "      <td>0</td>\n",
       "      <td>NaN</td>\n",
       "    </tr>\n",
       "    <tr>\n",
       "      <th>2</th>\n",
       "      <td>Antwerp</td>\n",
       "      <td>2060</td>\n",
       "      <td>Flanders</td>\n",
       "      <td>APARTMENT</td>\n",
       "      <td>APARTMENT</td>\n",
       "      <td>140000.0</td>\n",
       "      <td>NaN</td>\n",
       "      <td>residential_sale</td>\n",
       "      <td>1</td>\n",
       "      <td>NaN</td>\n",
       "      <td>...</td>\n",
       "      <td>0</td>\n",
       "      <td>1</td>\n",
       "      <td>8.0</td>\n",
       "      <td>0</td>\n",
       "      <td>NaN</td>\n",
       "      <td>44.0</td>\n",
       "      <td>NaN</td>\n",
       "      <td>NaN</td>\n",
       "      <td>0</td>\n",
       "      <td>NaN</td>\n",
       "    </tr>\n",
       "    <tr>\n",
       "      <th>3</th>\n",
       "      <td>Antwerp</td>\n",
       "      <td>2018</td>\n",
       "      <td>Flanders</td>\n",
       "      <td>APARTMENT</td>\n",
       "      <td>APARTMENT</td>\n",
       "      <td>215000.0</td>\n",
       "      <td>NaN</td>\n",
       "      <td>residential_sale</td>\n",
       "      <td>2</td>\n",
       "      <td>NaN</td>\n",
       "      <td>...</td>\n",
       "      <td>0</td>\n",
       "      <td>0</td>\n",
       "      <td>NaN</td>\n",
       "      <td>0</td>\n",
       "      <td>NaN</td>\n",
       "      <td>75.0</td>\n",
       "      <td>NaN</td>\n",
       "      <td>NaN</td>\n",
       "      <td>0</td>\n",
       "      <td>NaN</td>\n",
       "    </tr>\n",
       "    <tr>\n",
       "      <th>4</th>\n",
       "      <td>Edegem</td>\n",
       "      <td>2650</td>\n",
       "      <td>Flanders</td>\n",
       "      <td>APARTMENT</td>\n",
       "      <td>APARTMENT</td>\n",
       "      <td>349900.0</td>\n",
       "      <td>NaN</td>\n",
       "      <td>residential_sale</td>\n",
       "      <td>2</td>\n",
       "      <td>NaN</td>\n",
       "      <td>...</td>\n",
       "      <td>0</td>\n",
       "      <td>1</td>\n",
       "      <td>NaN</td>\n",
       "      <td>0</td>\n",
       "      <td>NaN</td>\n",
       "      <td>103.0</td>\n",
       "      <td>NaN</td>\n",
       "      <td>NaN</td>\n",
       "      <td>0</td>\n",
       "      <td>NaN</td>\n",
       "    </tr>\n",
       "  </tbody>\n",
       "</table>\n",
       "<p>5 rows × 22 columns</p>\n",
       "</div>"
      ],
      "text/plain": [
       "  locality postal_code    region property_type subtype_property     price   \n",
       "0   Deinze        9800  Flanders     APARTMENT        APARTMENT  395000.0  \\\n",
       "1    Halle        1500  Flanders         HOUSE            HOUSE  385000.0   \n",
       "2  Antwerp        2060  Flanders     APARTMENT        APARTMENT  140000.0   \n",
       "3  Antwerp        2018  Flanders     APARTMENT        APARTMENT  215000.0   \n",
       "4   Edegem        2650  Flanders     APARTMENT        APARTMENT  349900.0   \n",
       "\n",
       "   contruction_year      type_of_sale  number_of_rooms  living_area  ...   \n",
       "0            2023.0  residential_sale                2         22.0  ...  \\\n",
       "1               NaN  residential_sale                3          NaN  ...   \n",
       "2               NaN  residential_sale                1          NaN  ...   \n",
       "3               NaN  residential_sale                2          NaN  ...   \n",
       "4               NaN  residential_sale                2          NaN  ...   \n",
       "\n",
       "   has_open_fire  has_terrace  terrace_area  has_garden  garden_surface   \n",
       "0              0            1          12.0           1             NaN  \\\n",
       "1              0            0           NaN           0             NaN   \n",
       "2              0            1           8.0           0             NaN   \n",
       "3              0            0           NaN           0             NaN   \n",
       "4              0            1           NaN           0             NaN   \n",
       "\n",
       "   habitable_surface  plot_land_surface  number_of_facades  has_swimming_pool   \n",
       "0               99.0                NaN                4.0                  0  \\\n",
       "1              158.0                NaN                NaN                  0   \n",
       "2               44.0                NaN                NaN                  0   \n",
       "3               75.0                NaN                NaN                  0   \n",
       "4              103.0                NaN                NaN                  0   \n",
       "\n",
       "   building_state  \n",
       "0          AS_NEW  \n",
       "1             NaN  \n",
       "2             NaN  \n",
       "3             NaN  \n",
       "4             NaN  \n",
       "\n",
       "[5 rows x 22 columns]"
      ]
     },
     "execution_count": 48,
     "metadata": {},
     "output_type": "execute_result"
    }
   ],
   "source": [
    "immo_dataset = pd.read_csv('fulldata.csv')\n",
    "\n",
    "immo_dataset.head()\n"
   ]
  },
  {
   "cell_type": "code",
   "execution_count": 49,
   "metadata": {},
   "outputs": [
    {
     "name": "stdout",
     "output_type": "stream",
     "text": [
      "<class 'pandas.core.frame.DataFrame'>\n",
      "RangeIndex: 11243 entries, 0 to 11242\n",
      "Data columns (total 22 columns):\n",
      " #   Column                 Non-Null Count  Dtype  \n",
      "---  ------                 --------------  -----  \n",
      " 0   locality               11243 non-null  object \n",
      " 1   postal_code            11243 non-null  object \n",
      " 2   region                 11171 non-null  object \n",
      " 3   property_type          11243 non-null  object \n",
      " 4   subtype_property       11243 non-null  object \n",
      " 5   price                  11242 non-null  float64\n",
      " 6   contruction_year       2406 non-null   float64\n",
      " 7   type_of_sale           11243 non-null  object \n",
      " 8   number_of_rooms        11243 non-null  int64  \n",
      " 9   living_area            3438 non-null   float64\n",
      " 10  kitchen_fully_equiped  3438 non-null   float64\n",
      " 11  is_furnished           11243 non-null  int64  \n",
      " 12  has_open_fire          11243 non-null  int64  \n",
      " 13  has_terrace            11243 non-null  int64  \n",
      " 14  terrace_area           4678 non-null   float64\n",
      " 15  has_garden             11243 non-null  int64  \n",
      " 16  garden_surface         2473 non-null   float64\n",
      " 17  habitable_surface      10636 non-null  float64\n",
      " 18  plot_land_surface      2735 non-null   float64\n",
      " 19  number_of_facades      2926 non-null   float64\n",
      " 20  has_swimming_pool      11243 non-null  int64  \n",
      " 21  building_state         3030 non-null   object \n",
      "dtypes: float64(9), int64(6), object(7)\n",
      "memory usage: 1.9+ MB\n"
     ]
    }
   ],
   "source": [
    "immo_dataset.info()"
   ]
  },
  {
   "attachments": {},
   "cell_type": "markdown",
   "metadata": {},
   "source": [
    "Data Cleaning\n"
   ]
  },
  {
   "attachments": {},
   "cell_type": "markdown",
   "metadata": {},
   "source": [
    "Remove spaces from columns with objects (strings)."
   ]
  },
  {
   "cell_type": "code",
   "execution_count": 50,
   "metadata": {},
   "outputs": [],
   "source": [
    "\n",
    "immo_dataset = immo_dataset.apply(lambda x: x.str.strip() if x.dtype == \"object\" else x)\n"
   ]
  },
  {
   "attachments": {},
   "cell_type": "markdown",
   "metadata": {},
   "source": [
    "Replace spaces in postal codes."
   ]
  },
  {
   "cell_type": "code",
   "execution_count": 51,
   "metadata": {},
   "outputs": [],
   "source": [
    "immo_dataset['postal_code'] = immo_dataset['postal_code'].str.replace(' ', '')"
   ]
  },
  {
   "attachments": {},
   "cell_type": "markdown",
   "metadata": {},
   "source": [
    "Remove letters from postal codes."
   ]
  },
  {
   "cell_type": "code",
   "execution_count": 52,
   "metadata": {},
   "outputs": [],
   "source": [
    "immo_dataset['postal_code'] = immo_dataset['postal_code'].str.replace(r'\\D', '')"
   ]
  },
  {
   "attachments": {},
   "cell_type": "markdown",
   "metadata": {},
   "source": [
    "Remove erronous postal codes not belonging to Belgium (with more than 4 digits)."
   ]
  },
  {
   "cell_type": "code",
   "execution_count": 53,
   "metadata": {},
   "outputs": [
    {
     "name": "stdout",
     "output_type": "stream",
     "text": [
      "['9800' '1500' '2060' '2018' '2650' '3128' '3390' '9470' '8300' '1080'\n",
      " '1830' '3910' '6637' '1170' '2100' '1370' '2940' '2610' '1050' '9050'\n",
      " '8800' '9100' '9870' '1800' '2860' '2580' '9991' '9000' '8587' '8434'\n",
      " '8810' '8770' '3630' '7900' '3221' '3730' '3800' '2280' '7912' '1020'\n",
      " '2560' '2243' '9290' '1760' '2440' '8000' '4367' '9600' '4000' '4041'\n",
      " '1440' '2830' '1200' '1030' '1070' '4100' '4690' '4020' '8370' '3680'\n",
      " '9070' '3070' '8860' '2450' '8301' '2660' '3830' '3500' '3840' '3720'\n",
      " '4820' '6940' '1653' '4430' '2620' '4500' '9770' '4102' '6792' '9750'\n",
      " '1040' '1410' '1820' '9120' '8630' '9472' '3000' '9820' '3010' '1180'\n",
      " '1000' '2170' '2850' '2340' '1790' '8740' '7190' '8500' '1495' '6030'\n",
      " '3990' '3150' '9968' '1300' '1140' '5100' '2970' '7620' '9160' '9032'\n",
      " '9900' '9300' '9660' '1210' '1060' '8690' '1755' '8647' '3020' '1700'\n",
      " '4340' '1090' '1480' '8930' '6042' '9260' '7940' '8660' '1420' '1740'\n",
      " '2000' '1780' '4040' '1083' '2570' '2380' '4680' '1160' '5030' '6750'\n",
      " '1150' '2270' '7500' '2020' '3980' '2430' '2400' '2050' '7333' '8670'\n",
      " '9890' '1330' '2600' '9520' '9340' '7712' '9200' '6181' '6060' '1301'\n",
      " '4450' '2920' '2040' '6040' '7134' '7020' '2950' '3012' '3300' '6840'\n",
      " '3970' '1930' '4101' '1400' '2870' '8792' '1910' '2900' '1970' '9040'\n",
      " '1348' '6230' '4602' '9473' '2500' '9280' '2845' '4420' '1600' '7390'\n",
      " '3270' '6890' '9506' '9500' '3272' '2222' '3120' '2230' '9090' '2800'\n",
      " '3140' '7700' '1831' '2110' '2360' '3001' '4802' '6140' '6900' '2300'\n",
      " '9230' '1120' '2140' '9140' '4357' '4360' '8790' '9400' '6870' '1190'\n",
      " '9042' '1570' '4257' '1651' '2812' '9170' '1730' '6031' '6180' '3600'\n",
      " '2221' '2930' '7033' '1650' '4400' '5590' '3080' '3581' '1950' '3090'\n",
      " '1380' '5377' '1501' '1082' '3920' '2590' '5002' '9690' '5575' '3540'\n",
      " '4470' '4550' '8200' '9270' '5300' '9850' '1702' '1310' '1785' '3320'\n",
      " '8600' '3440' '8480' '8560' '4460' '8890' '4845' '1340' '6810' '1770'\n",
      " '4280' '1502' '2235' '9990' '2350' '2250' '2460' '2880' '9255' '5081'\n",
      " '1853' '9570' '1850' '4480' '9620' '4121' '8310' '9700' '3130' '7170'\n",
      " '9790' '3370' '1932' '1470' '4841' '9860' '8610' '3650' '3620' '8850'\n",
      " '7850' '9112' '4920' '4651' '5004' '1390' '3460' '9950' '4051' '4130'\n",
      " '6700' '3580' '7370' '7080' '3380' '4350' '4910' '4980' '9961' '7522'\n",
      " '6590' '4800' '6001' '1457' '4560' '5370' '2390' '1620' '2480' '7140'\n",
      " '4160' '8430' '7711' '8420' '8870' '8530' '3971' '8501' '6200' '8972'\n",
      " '9220' '6790' '1840' '8900' '8880' '1731' '9402' '9420' '1450' '4520'\n",
      " '8380' '6830' '5334' '2520' '7812' '1325' '8540' '8580' '8520' '9060'\n",
      " '6000' '8400' '9041' '8450' '1320' '9910' '3290' '9180' '3450' '8377'\n",
      " '7972' '9190' '9130' '3890' '9150' '8840' '2310' '1703' '6980' '5620'\n",
      " '9080' '9940' '2640' '1435' '6880' '4890' '4683' '4031' '6791' '6960'\n",
      " '8552' '2840' '8680' '8750' '7110' '8550' '9310' '9052' '9051' '8730'\n",
      " '1750' '9111' '9240' '8620' '4684' '7130' '8570' '2220' '2200' '4610'\n",
      " '2470' '2980' '6690' '6043' '1630' '1880' '8650' '8760' '8700' '6640'\n",
      " '5530' '8780' '6600' '3400' '4032' '5580' '6032' '4140' '7502' '8340'\n",
      " '2180' '7531' '3583' '9667' '7890' '3520' '2890' '1654' '9030' '2530'\n",
      " '5020' '9810' '5000' '7350' '5573' '7866' '5600' '3900' '3560' '4530'\n",
      " '9031' '3454' '2550' '7904' '6800' '4600' '4540' '3053' '6760' '4682'\n",
      " '8830' '9250' '4624' '9630' '4217' '5520' '1640' '3211' '7000' '3110'\n",
      " '7340' '6150' '3200' '1861' '5101' '1460' '5032' '7090' '3870' '1601'\n",
      " '6831' '8460' '9960' '2150' '8710' '7034' '7804' '7870' '4053' '1980'\n",
      " '7911' '5060' '3740' '8510' '1490' '1860' '6941' '2240' '3891' '3850'\n",
      " '9971' '2260' '7536' '4120' '4537' '6724' '3510' '7160' '6740' '5650'\n",
      " '9450' '1933' '1130' '4451' '6142' '1547' '1745' '1701' '7301' '1742'\n",
      " '1741' '4170' '5660' '5630' '5651' '1341' '4260' '4317' '7971' '1081'\n",
      " '7050' '2160' '4030' '7100' '2491' '6630' '4342' '3590' '2070' '1421'\n",
      " '9830' '7740' '3530' '8791' '6464' '4870' '4050' '7180' '9880' '1652'\n",
      " '6534' '4190' '3210' '7060' '1540' '5340' '6860' '2275' '9550' '4877'\n",
      " '4141' '1350' '4860' '4750' '8210' '9404' '4300' '6224' '2820' '6238'\n",
      " '7300' '6530' '2811' '6500' '1342' '6280' '6717' '5680' '3945' '9840'\n",
      " '1430' '7387' '2490' '1428' '7320' '9572' '3271' '5670' '2540' '3111'\n",
      " '9320' '7021' '3052' '7063' '8820' '5024' '6990' '4576' '4653' '5350'\n",
      " '2431' '3470' '3570' '5330' '5500' '4970' '3550' '6851' '7822' '5540'\n",
      " '2960' '7750' '4171' '4681' '3700' '5640' '5190' '3582' '6120' '3051'\n",
      " '6824' '3040' '3078' '3071' '8940' '4710' '8020' '5570' '6240' '2910'\n",
      " '7760' '2382' '2370' '6850' '7181' '1331' '4122' '2627' '6061' '9831'\n",
      " '3545' '6041' '7332' '1332' '6921' '7141' '4672' '6929' '9688' '2630'\n",
      " '6720' '6210' '4900' '4577' '6741' '4621' '4840' '7330' '5310' '7830'\n",
      " '7880' '8470' '6820' '6044' '4700' '4180' '9451' '4570' '7022' '3770'\n",
      " '3201' '7061' '2330' '3118' '7600' '7608' '9980' '6183' '6220' '7331'\n",
      " '8755' '9881' '3806' '6250' '8980' '4801' '5070' '6567' '7040' '3670'\n",
      " '9920' '6010' '8920' '7860' '6660' '7910' '9988' '9185' '3960' '3690'\n",
      " '7730' '8531' '4720' '8211' '9930' '4432' '7382' '4620' '5170' '5360'\n",
      " '7120' '3191' '2861' '5537' '4052' '4287' '6780' '4987' '7943' '3060'\n",
      " '4590' '8970' '4770' '6680' '4607' '8691' '7542' '1670' '6997' '3050'\n",
      " '5555' '8490' '4218' '1761' '6440' '3660' '2030' '5550' '1367' '2990'\n",
      " '6838' '6987' '3190' '7801' '7621' '6670' '8432' '9552' '3018' '1982'\n",
      " '6470' '3401' '6663' '6953' '7032' '9308' '3202' '8793' '5572' '4557'\n",
      " '3511' '7783' '4960' '6782' '7642' '8904' '6666' '6833' '7380' '4771'\n",
      " '3621' '4821' '8551' '5621' '7604' '7543' '6593' '1981' '6560' '6730'\n",
      " '5560' '3360' '3391' '3790' '4210' '7012' '6687' '7131' '8573' '8511'\n",
      " '5380' '6672' '8950' '8720' '1560' '8581' '3665' '2223' '9401' '4608'\n",
      " '7504' '2547' '4650' '6971' '4601' '6221' '3950' '3189' '7864' '4161'\n",
      " '6141' '5150' '6823' '6182' '5543' '4623' '4347' '8953' '8640' '7322'\n",
      " '5140' '5001' '8902' '5503' '7970' '3640' '6662' '7802' '7640' '1315'\n",
      " '6460' '3220' '4830' '2242' '7070' '8553' '4721' '7334' '6769' '5022'\n",
      " '6661' '6927' '5031' '7030' '4042' '6223' '6836' '6767' '3930' '3193'\n",
      " '7534' '5646' '4990' '2381' '3940' '5376' '7950' '9931' '7863' '5542'\n",
      " '7540' '7742' '3384' '5544' '3473' '4837' '8978' '1602' '2290' '4950'\n",
      " '4219' '6762' '8908' '3350' '7810' '6970' '3321' '7973' '6671' '7901'\n",
      " '4670' '6781' '7641' '4250' '2801' '6692' '4671' '1357' '8954' '7800'\n",
      " '8554' '9521' '7321' '6834' '6747' '3061' '8582' '6920' '4633' '7603'\n",
      " '7780' '1360' '9680' '1851' '4630' '5541']\n"
     ]
    }
   ],
   "source": [
    "res = immo_dataset[immo_dataset['postal_code'].map(lambda x: len(x) >= 5)]\n",
    "immo_dataset.drop(res.index, inplace=True)\n",
    "print(immo_dataset['postal_code'].unique())\n"
   ]
  },
  {
   "attachments": {},
   "cell_type": "markdown",
   "metadata": {},
   "source": [
    "Create subset for municipalities."
   ]
  },
  {
   "cell_type": "code",
   "execution_count": 54,
   "metadata": {},
   "outputs": [],
   "source": [
    "municipalities = immo_dataset[['locality', 'postal_code']]"
   ]
  },
  {
   "attachments": {},
   "cell_type": "markdown",
   "metadata": {},
   "source": [
    "Find empty values"
   ]
  },
  {
   "cell_type": "code",
   "execution_count": 55,
   "metadata": {},
   "outputs": [
    {
     "name": "stdout",
     "output_type": "stream",
     "text": [
      "locality                  0.000000\n",
      "postal_code               0.000000\n",
      "region                    0.125168\n",
      "property_type             0.000000\n",
      "subtype_property          0.000000\n",
      "price                     0.008941\n",
      "contruction_year         78.497988\n",
      "type_of_sale              0.000000\n",
      "number_of_rooms           0.000000\n",
      "living_area              69.271346\n",
      "kitchen_fully_equiped    69.271346\n",
      "is_furnished              0.000000\n",
      "has_open_fire             0.000000\n",
      "has_terrace               0.000000\n",
      "terrace_area             58.202950\n",
      "has_garden                0.000000\n",
      "garden_surface           77.916853\n",
      "habitable_surface         5.400089\n",
      "plot_land_surface        75.556549\n",
      "number_of_facades        73.848905\n",
      "has_swimming_pool         0.000000\n",
      "building_state           72.910148\n",
      "dtype: float64\n"
     ]
    }
   ],
   "source": [
    "missing_percentage = immo_dataset.isna().mean() * 100\n",
    "print(missing_percentage)"
   ]
  },
  {
   "attachments": {},
   "cell_type": "markdown",
   "metadata": {},
   "source": [
    "Compare property_type and subtype_property values."
   ]
  },
  {
   "cell_type": "code",
   "execution_count": 56,
   "metadata": {},
   "outputs": [
    {
     "name": "stdout",
     "output_type": "stream",
     "text": [
      "['APARTMENT' 'HOUSE']\n",
      "['APARTMENT' 'HOUSE']\n"
     ]
    }
   ],
   "source": [
    "print(immo_dataset['property_type'].unique())\n",
    "print(immo_dataset['subtype_property'].unique())"
   ]
  },
  {
   "attachments": {},
   "cell_type": "markdown",
   "metadata": {},
   "source": [
    "Drop columns from dataset due to hight percentage of missing values. \n",
    "\n",
    "subtype_property is dropped because it has the same values as property_type."
   ]
  },
  {
   "cell_type": "code",
   "execution_count": 57,
   "metadata": {},
   "outputs": [
    {
     "data": {
      "text/plain": [
       "(11185, 12)"
      ]
     },
     "execution_count": 57,
     "metadata": {},
     "output_type": "execute_result"
    }
   ],
   "source": [
    "drop_columns = ['locality', 'contruction_year', 'subtype_property', 'living_area', \n",
    "                'kitchen_fully_equiped', 'terrace_area', 'garden_surface', \n",
    "                'plot_land_surface', 'number_of_facades', 'building_state']\n",
    "immo_dataset.drop(drop_columns , axis=1, inplace=True)\n",
    "immo_dataset.head()\n",
    "immo_dataset.shape\n",
    "\n"
   ]
  },
  {
   "attachments": {},
   "cell_type": "markdown",
   "metadata": {},
   "source": [
    "Drop rows with empty values."
   ]
  },
  {
   "cell_type": "code",
   "execution_count": 58,
   "metadata": {},
   "outputs": [
    {
     "name": "stdout",
     "output_type": "stream",
     "text": [
      "<class 'pandas.core.frame.DataFrame'>\n",
      "Index: 11185 entries, 0 to 11242\n",
      "Data columns (total 12 columns):\n",
      " #   Column             Non-Null Count  Dtype  \n",
      "---  ------             --------------  -----  \n",
      " 0   postal_code        11185 non-null  object \n",
      " 1   region             11171 non-null  object \n",
      " 2   property_type      11185 non-null  object \n",
      " 3   price              11184 non-null  float64\n",
      " 4   type_of_sale       11185 non-null  object \n",
      " 5   number_of_rooms    11185 non-null  int64  \n",
      " 6   is_furnished       11185 non-null  int64  \n",
      " 7   has_open_fire      11185 non-null  int64  \n",
      " 8   has_terrace        11185 non-null  int64  \n",
      " 9   has_garden         11185 non-null  int64  \n",
      " 10  habitable_surface  10581 non-null  float64\n",
      " 11  has_swimming_pool  11185 non-null  int64  \n",
      "dtypes: float64(2), int64(6), object(4)\n",
      "memory usage: 1.1+ MB\n",
      "<class 'pandas.core.frame.DataFrame'>\n",
      "Index: 10570 entries, 0 to 11242\n",
      "Data columns (total 12 columns):\n",
      " #   Column             Non-Null Count  Dtype  \n",
      "---  ------             --------------  -----  \n",
      " 0   postal_code        10570 non-null  object \n",
      " 1   region             10570 non-null  object \n",
      " 2   property_type      10570 non-null  object \n",
      " 3   price              10570 non-null  float64\n",
      " 4   type_of_sale       10570 non-null  object \n",
      " 5   number_of_rooms    10570 non-null  int64  \n",
      " 6   is_furnished       10570 non-null  int64  \n",
      " 7   has_open_fire      10570 non-null  int64  \n",
      " 8   has_terrace        10570 non-null  int64  \n",
      " 9   has_garden         10570 non-null  int64  \n",
      " 10  habitable_surface  10570 non-null  float64\n",
      " 11  has_swimming_pool  10570 non-null  int64  \n",
      "dtypes: float64(2), int64(6), object(4)\n",
      "memory usage: 1.0+ MB\n"
     ]
    }
   ],
   "source": [
    "immo_dataset.info()\n",
    "immo_dataset.dropna(inplace=True)\n",
    "immo_dataset.info()"
   ]
  },
  {
   "attachments": {},
   "cell_type": "markdown",
   "metadata": {},
   "source": [
    "Define duplicates."
   ]
  },
  {
   "cell_type": "code",
   "execution_count": 59,
   "metadata": {},
   "outputs": [
    {
     "name": "stdout",
     "output_type": "stream",
     "text": [
      "<class 'pandas.core.frame.DataFrame'>\n",
      "Index: 285 entries, 191 to 11212\n",
      "Data columns (total 12 columns):\n",
      " #   Column             Non-Null Count  Dtype  \n",
      "---  ------             --------------  -----  \n",
      " 0   postal_code        285 non-null    object \n",
      " 1   region             285 non-null    object \n",
      " 2   property_type      285 non-null    object \n",
      " 3   price              285 non-null    float64\n",
      " 4   type_of_sale       285 non-null    object \n",
      " 5   number_of_rooms    285 non-null    int64  \n",
      " 6   is_furnished       285 non-null    int64  \n",
      " 7   has_open_fire      285 non-null    int64  \n",
      " 8   has_terrace        285 non-null    int64  \n",
      " 9   has_garden         285 non-null    int64  \n",
      " 10  habitable_surface  285 non-null    float64\n",
      " 11  has_swimming_pool  285 non-null    int64  \n",
      "dtypes: float64(2), int64(6), object(4)\n",
      "memory usage: 28.9+ KB\n"
     ]
    }
   ],
   "source": [
    "duplicate_rows = immo_dataset.duplicated()\n",
    "duplicate_data = immo_dataset[duplicate_rows]\n",
    "duplicate_data.info()\n"
   ]
  },
  {
   "attachments": {},
   "cell_type": "markdown",
   "metadata": {},
   "source": [
    "Remove duplicates."
   ]
  },
  {
   "cell_type": "code",
   "execution_count": 60,
   "metadata": {},
   "outputs": [],
   "source": [
    "immo_dataset.drop_duplicates(inplace=True)\n"
   ]
  },
  {
   "cell_type": "code",
   "execution_count": 61,
   "metadata": {},
   "outputs": [
    {
     "name": "stdout",
     "output_type": "stream",
     "text": [
      "<class 'pandas.core.frame.DataFrame'>\n",
      "Index: 10285 entries, 0 to 11242\n",
      "Data columns (total 12 columns):\n",
      " #   Column             Non-Null Count  Dtype  \n",
      "---  ------             --------------  -----  \n",
      " 0   postal_code        10285 non-null  object \n",
      " 1   region             10285 non-null  object \n",
      " 2   property_type      10285 non-null  object \n",
      " 3   price              10285 non-null  float64\n",
      " 4   type_of_sale       10285 non-null  object \n",
      " 5   number_of_rooms    10285 non-null  int64  \n",
      " 6   is_furnished       10285 non-null  int64  \n",
      " 7   has_open_fire      10285 non-null  int64  \n",
      " 8   has_terrace        10285 non-null  int64  \n",
      " 9   has_garden         10285 non-null  int64  \n",
      " 10  habitable_surface  10285 non-null  float64\n",
      " 11  has_swimming_pool  10285 non-null  int64  \n",
      "dtypes: float64(2), int64(6), object(4)\n",
      "memory usage: 1.0+ MB\n"
     ]
    }
   ],
   "source": [
    "immo_dataset.info()"
   ]
  },
  {
   "attachments": {},
   "cell_type": "markdown",
   "metadata": {},
   "source": [
    "Data Analysis"
   ]
  },
  {
   "cell_type": "code",
   "execution_count": 62,
   "metadata": {},
   "outputs": [
    {
     "data": {
      "text/plain": [
       "(10285, 12)"
      ]
     },
     "execution_count": 62,
     "metadata": {},
     "output_type": "execute_result"
    }
   ],
   "source": [
    "immo_dataset.shape"
   ]
  },
  {
   "cell_type": "code",
   "execution_count": 63,
   "metadata": {},
   "outputs": [
    {
     "name": "stdout",
     "output_type": "stream",
     "text": [
      "<class 'pandas.core.frame.DataFrame'>\n",
      "Index: 10285 entries, 0 to 11242\n",
      "Data columns (total 12 columns):\n",
      " #   Column             Non-Null Count  Dtype  \n",
      "---  ------             --------------  -----  \n",
      " 0   postal_code        10285 non-null  object \n",
      " 1   region             10285 non-null  object \n",
      " 2   property_type      10285 non-null  object \n",
      " 3   price              10285 non-null  float64\n",
      " 4   type_of_sale       10285 non-null  object \n",
      " 5   number_of_rooms    10285 non-null  int64  \n",
      " 6   is_furnished       10285 non-null  int64  \n",
      " 7   has_open_fire      10285 non-null  int64  \n",
      " 8   has_terrace        10285 non-null  int64  \n",
      " 9   has_garden         10285 non-null  int64  \n",
      " 10  habitable_surface  10285 non-null  float64\n",
      " 11  has_swimming_pool  10285 non-null  int64  \n",
      "dtypes: float64(2), int64(6), object(4)\n",
      "memory usage: 1.0+ MB\n"
     ]
    }
   ],
   "source": [
    "immo_dataset.info()\n"
   ]
  },
  {
   "attachments": {},
   "cell_type": "markdown",
   "metadata": {},
   "source": [
    "Percentage of empty values (this is before the cleaning process)."
   ]
  },
  {
   "cell_type": "code",
   "execution_count": 64,
   "metadata": {},
   "outputs": [
    {
     "name": "stdout",
     "output_type": "stream",
     "text": [
      "locality                  0.000000\n",
      "postal_code               0.000000\n",
      "region                    0.125168\n",
      "property_type             0.000000\n",
      "subtype_property          0.000000\n",
      "price                     0.008941\n",
      "contruction_year         78.497988\n",
      "type_of_sale              0.000000\n",
      "number_of_rooms           0.000000\n",
      "living_area              69.271346\n",
      "kitchen_fully_equiped    69.271346\n",
      "is_furnished              0.000000\n",
      "has_open_fire             0.000000\n",
      "has_terrace               0.000000\n",
      "terrace_area             58.202950\n",
      "has_garden                0.000000\n",
      "garden_surface           77.916853\n",
      "habitable_surface         5.400089\n",
      "plot_land_surface        75.556549\n",
      "number_of_facades        73.848905\n",
      "has_swimming_pool         0.000000\n",
      "building_state           72.910148\n",
      "dtype: float64\n"
     ]
    }
   ],
   "source": [
    "print(missing_percentage)"
   ]
  },
  {
   "attachments": {},
   "cell_type": "markdown",
   "metadata": {},
   "source": [
    "\n",
    "Find correlation between price and other variables"
   ]
  },
  {
   "cell_type": "code",
   "execution_count": 65,
   "metadata": {},
   "outputs": [
    {
     "name": "stdout",
     "output_type": "stream",
     "text": [
      "                                                  price\n",
      "price                                          1.000000\n",
      "habitable_surface                              0.551419\n",
      "number_of_rooms                                0.365836\n",
      "has_swimming_pool                              0.220126\n",
      "region_Brussels                                0.184246\n",
      "has_terrace                                    0.106388\n",
      "has_garden                                     0.067175\n",
      "property_type_HOUSE                            0.053431\n",
      "type_of_sale_residential_sale                  0.042368\n",
      "region_Flanders                                0.040559\n",
      "is_furnished                                   0.011005\n",
      "type_of_sale_annuity_lump_sum                 -0.008064\n",
      "type_of_sale_first_session_with_reserve_price -0.010499\n",
      "has_open_fire                                 -0.039626\n",
      "type_of_sale_annuity_monthly_amount           -0.040934\n",
      "property_type_APARTMENT                       -0.053431\n",
      "postal_code                                   -0.108634\n",
      "region_Wallonie                               -0.196923\n"
     ]
    }
   ],
   "source": [
    "# Define categorical columns.\n",
    "categorical_columns = ['region', 'property_type', 'type_of_sale']\n",
    "\n",
    "# Convert categorical columns to numerical \n",
    "encoded_data = pd.get_dummies(immo_dataset, columns= categorical_columns)\n",
    "\n",
    "# Calculate correlation coefficients\n",
    "correlation_coefficient = encoded_data.corr()[['price']]\n",
    "\n",
    "# Print the correlation coefficients\n",
    "\n",
    "print(correlation_coefficient.sort_values(by=['price'], ascending=False))"
   ]
  },
  {
   "attachments": {},
   "cell_type": "markdown",
   "metadata": {},
   "source": [
    "Remove 'type_of_sale' column ."
   ]
  },
  {
   "cell_type": "code",
   "execution_count": 66,
   "metadata": {},
   "outputs": [
    {
     "data": {
      "text/html": [
       "<div>\n",
       "<style scoped>\n",
       "    .dataframe tbody tr th:only-of-type {\n",
       "        vertical-align: middle;\n",
       "    }\n",
       "\n",
       "    .dataframe tbody tr th {\n",
       "        vertical-align: top;\n",
       "    }\n",
       "\n",
       "    .dataframe thead th {\n",
       "        text-align: right;\n",
       "    }\n",
       "</style>\n",
       "<table border=\"1\" class=\"dataframe\">\n",
       "  <thead>\n",
       "    <tr style=\"text-align: right;\">\n",
       "      <th></th>\n",
       "      <th>postal_code</th>\n",
       "      <th>region</th>\n",
       "      <th>property_type</th>\n",
       "      <th>price</th>\n",
       "      <th>number_of_rooms</th>\n",
       "      <th>is_furnished</th>\n",
       "      <th>has_open_fire</th>\n",
       "      <th>has_terrace</th>\n",
       "      <th>has_garden</th>\n",
       "      <th>habitable_surface</th>\n",
       "      <th>has_swimming_pool</th>\n",
       "    </tr>\n",
       "  </thead>\n",
       "  <tbody>\n",
       "    <tr>\n",
       "      <th>0</th>\n",
       "      <td>9800</td>\n",
       "      <td>Flanders</td>\n",
       "      <td>APARTMENT</td>\n",
       "      <td>395000.0</td>\n",
       "      <td>2</td>\n",
       "      <td>0</td>\n",
       "      <td>0</td>\n",
       "      <td>1</td>\n",
       "      <td>1</td>\n",
       "      <td>99.0</td>\n",
       "      <td>0</td>\n",
       "    </tr>\n",
       "    <tr>\n",
       "      <th>1</th>\n",
       "      <td>1500</td>\n",
       "      <td>Flanders</td>\n",
       "      <td>HOUSE</td>\n",
       "      <td>385000.0</td>\n",
       "      <td>3</td>\n",
       "      <td>0</td>\n",
       "      <td>0</td>\n",
       "      <td>0</td>\n",
       "      <td>0</td>\n",
       "      <td>158.0</td>\n",
       "      <td>0</td>\n",
       "    </tr>\n",
       "    <tr>\n",
       "      <th>2</th>\n",
       "      <td>2060</td>\n",
       "      <td>Flanders</td>\n",
       "      <td>APARTMENT</td>\n",
       "      <td>140000.0</td>\n",
       "      <td>1</td>\n",
       "      <td>0</td>\n",
       "      <td>0</td>\n",
       "      <td>1</td>\n",
       "      <td>0</td>\n",
       "      <td>44.0</td>\n",
       "      <td>0</td>\n",
       "    </tr>\n",
       "    <tr>\n",
       "      <th>3</th>\n",
       "      <td>2018</td>\n",
       "      <td>Flanders</td>\n",
       "      <td>APARTMENT</td>\n",
       "      <td>215000.0</td>\n",
       "      <td>2</td>\n",
       "      <td>0</td>\n",
       "      <td>0</td>\n",
       "      <td>0</td>\n",
       "      <td>0</td>\n",
       "      <td>75.0</td>\n",
       "      <td>0</td>\n",
       "    </tr>\n",
       "    <tr>\n",
       "      <th>4</th>\n",
       "      <td>2650</td>\n",
       "      <td>Flanders</td>\n",
       "      <td>APARTMENT</td>\n",
       "      <td>349900.0</td>\n",
       "      <td>2</td>\n",
       "      <td>0</td>\n",
       "      <td>0</td>\n",
       "      <td>1</td>\n",
       "      <td>0</td>\n",
       "      <td>103.0</td>\n",
       "      <td>0</td>\n",
       "    </tr>\n",
       "    <tr>\n",
       "      <th>5</th>\n",
       "      <td>3128</td>\n",
       "      <td>Flanders</td>\n",
       "      <td>HOUSE</td>\n",
       "      <td>380000.0</td>\n",
       "      <td>4</td>\n",
       "      <td>0</td>\n",
       "      <td>0</td>\n",
       "      <td>1</td>\n",
       "      <td>0</td>\n",
       "      <td>220.0</td>\n",
       "      <td>0</td>\n",
       "    </tr>\n",
       "    <tr>\n",
       "      <th>6</th>\n",
       "      <td>3390</td>\n",
       "      <td>Flanders</td>\n",
       "      <td>HOUSE</td>\n",
       "      <td>510000.0</td>\n",
       "      <td>5</td>\n",
       "      <td>0</td>\n",
       "      <td>0</td>\n",
       "      <td>1</td>\n",
       "      <td>0</td>\n",
       "      <td>224.0</td>\n",
       "      <td>0</td>\n",
       "    </tr>\n",
       "    <tr>\n",
       "      <th>7</th>\n",
       "      <td>9470</td>\n",
       "      <td>Flanders</td>\n",
       "      <td>HOUSE</td>\n",
       "      <td>339000.0</td>\n",
       "      <td>3</td>\n",
       "      <td>0</td>\n",
       "      <td>0</td>\n",
       "      <td>1</td>\n",
       "      <td>0</td>\n",
       "      <td>165.0</td>\n",
       "      <td>0</td>\n",
       "    </tr>\n",
       "    <tr>\n",
       "      <th>8</th>\n",
       "      <td>8300</td>\n",
       "      <td>Flanders</td>\n",
       "      <td>APARTMENT</td>\n",
       "      <td>765000.0</td>\n",
       "      <td>2</td>\n",
       "      <td>1</td>\n",
       "      <td>0</td>\n",
       "      <td>1</td>\n",
       "      <td>0</td>\n",
       "      <td>96.0</td>\n",
       "      <td>0</td>\n",
       "    </tr>\n",
       "    <tr>\n",
       "      <th>9</th>\n",
       "      <td>1080</td>\n",
       "      <td>Brussels</td>\n",
       "      <td>APARTMENT</td>\n",
       "      <td>339000.0</td>\n",
       "      <td>3</td>\n",
       "      <td>0</td>\n",
       "      <td>1</td>\n",
       "      <td>0</td>\n",
       "      <td>0</td>\n",
       "      <td>140.0</td>\n",
       "      <td>0</td>\n",
       "    </tr>\n",
       "  </tbody>\n",
       "</table>\n",
       "</div>"
      ],
      "text/plain": [
       "  postal_code    region property_type     price  number_of_rooms   \n",
       "0        9800  Flanders     APARTMENT  395000.0                2  \\\n",
       "1        1500  Flanders         HOUSE  385000.0                3   \n",
       "2        2060  Flanders     APARTMENT  140000.0                1   \n",
       "3        2018  Flanders     APARTMENT  215000.0                2   \n",
       "4        2650  Flanders     APARTMENT  349900.0                2   \n",
       "5        3128  Flanders         HOUSE  380000.0                4   \n",
       "6        3390  Flanders         HOUSE  510000.0                5   \n",
       "7        9470  Flanders         HOUSE  339000.0                3   \n",
       "8        8300  Flanders     APARTMENT  765000.0                2   \n",
       "9        1080  Brussels     APARTMENT  339000.0                3   \n",
       "\n",
       "   is_furnished  has_open_fire  has_terrace  has_garden  habitable_surface   \n",
       "0             0              0            1           1               99.0  \\\n",
       "1             0              0            0           0              158.0   \n",
       "2             0              0            1           0               44.0   \n",
       "3             0              0            0           0               75.0   \n",
       "4             0              0            1           0              103.0   \n",
       "5             0              0            1           0              220.0   \n",
       "6             0              0            1           0              224.0   \n",
       "7             0              0            1           0              165.0   \n",
       "8             1              0            1           0               96.0   \n",
       "9             0              1            0           0              140.0   \n",
       "\n",
       "   has_swimming_pool  \n",
       "0                  0  \n",
       "1                  0  \n",
       "2                  0  \n",
       "3                  0  \n",
       "4                  0  \n",
       "5                  0  \n",
       "6                  0  \n",
       "7                  0  \n",
       "8                  0  \n",
       "9                  0  "
      ]
     },
     "execution_count": 66,
     "metadata": {},
     "output_type": "execute_result"
    }
   ],
   "source": [
    "#drop_columns_type = ['type_of_sale']\n",
    "immo_dataset = immo_dataset.drop(['type_of_sale'], axis=1)\n",
    "immo_dataset.head(10)"
   ]
  },
  {
   "attachments": {},
   "cell_type": "markdown",
   "metadata": {},
   "source": [
    "Plot correlation between price and other variables."
   ]
  },
  {
   "cell_type": "code",
   "execution_count": null,
   "metadata": {},
   "outputs": [],
   "source": [
    "# Define categorical columns.\n",
    "categorical_columns = ['region', 'property_type']\n",
    "\n",
    "# Convert the categorical columns to numerical\n",
    "encoded_data = pd.get_dummies(immo_dataset, columns=categorical_columns)\n",
    "\n",
    "# Calculate the correlation using the Pearson method\n",
    "pearson_corr = encoded_data.corr(method='pearson')\n",
    "\n",
    "# Sort the correlation values in descending order\n",
    "sorted_correlation = pearson_corr.sort_values(by='price',ascending=False)\n",
    "\n",
    "# Plot a bar graph\n",
    "plt.figure(figsize=(10, 6))\n",
    "plt.bar(sorted_correlation.index, sorted_correlation['price'])\n",
    "plt.xlabel('Variables', fontweight='bold')\n",
    "plt.ylabel('Correlation Coefficient (no units)', fontweight='bold')\n",
    "plt.title('Correlation between Price and Other Variables', fontweight='bold')\n",
    "plt.xticks(rotation=80)\n",
    "plt.show()\n"
   ]
  },
  {
   "attachments": {},
   "cell_type": "markdown",
   "metadata": {},
   "source": [
    "Plot Correlation Heatmap."
   ]
  },
  {
   "cell_type": "code",
   "execution_count": null,
   "metadata": {},
   "outputs": [],
   "source": [
    "# Define categorical columns.\n",
    "categorical_columns = ['region', 'property_type']\n",
    "\n",
    "# Convert categorical columns to numerical\n",
    "encoded_data = pd.get_dummies(immo_dataset, columns=categorical_columns)\n",
    "\n",
    "# Calculate the correlation using Pearson method\n",
    "pearson_corr = encoded_data.corr(method='pearson')\n",
    "# pearson_corr_filtered = pearson_corr[pearson_corr >= 0.5].sort_values(by= 'price', ascending=False)\n",
    "\n",
    "# Plotting the correlation heatmap\n",
    "plt.figure(figsize=(16, 16))\n",
    "sns.heatmap(pearson_corr, annot=True, cmap='coolwarm')\n",
    "plt.title('Pearson Correlation Heatmap', fontweight='bold')\n",
    "plt.show()"
   ]
  },
  {
   "attachments": {},
   "cell_type": "markdown",
   "metadata": {},
   "source": [
    "How are variables correlated to each other? "
   ]
  },
  {
   "attachments": {},
   "cell_type": "markdown",
   "metadata": {},
   "source": [
    "There is a positive correlation between number of rooms and habitable surface.\n",
    "Also positive correlation between number of rooms and type of property:house.\n",
    "Positive correaltion between price and habitable surface."
   ]
  },
  {
   "attachments": {},
   "cell_type": "markdown",
   "metadata": {},
   "source": [
    "Calculate correlation of all variables between them."
   ]
  },
  {
   "cell_type": "code",
   "execution_count": null,
   "metadata": {},
   "outputs": [],
   "source": [
    "# Define categorical columns.\n",
    "categorical_columns = ['region', 'property_type']\n",
    "# Convert the categorical 'locality' column to numerical using one-hot encoding\n",
    "encoded_data = pd.get_dummies(immo_dataset, columns=categorical_columns)\n",
    "\n",
    "# Calculate correlation coefficient.\n",
    "correlation_coefficient = encoded_data.corr()\n",
    "\n",
    "# Print the correlation coefficients\n",
    "print(correlation_coefficient)"
   ]
  },
  {
   "attachments": {},
   "cell_type": "markdown",
   "metadata": {},
   "source": [
    "Which variables have the greatest influence on the price?"
   ]
  },
  {
   "attachments": {},
   "cell_type": "markdown",
   "metadata": {},
   "source": [
    "The variables with the most influence on property price are:\n",
    "\n",
    "Habitable surface\n",
    "\n",
    "Number of rooms\n",
    "\n",
    "Presence of swimming pool\n",
    "\n",
    "Region: Brussels\n",
    "\n",
    "Presence of terrace.\n",
    "\n"
   ]
  },
  {
   "attachments": {},
   "cell_type": "markdown",
   "metadata": {},
   "source": [
    "Which variables have the least influence on the price?"
   ]
  },
  {
   "attachments": {},
   "cell_type": "markdown",
   "metadata": {},
   "source": [
    "The variables with the least influence on price are:\n",
    "\n",
    "Region:Flanders\n",
    "\n",
    "If it is furnished\n",
    "\n",
    "If it has open fire"
   ]
  },
  {
   "attachments": {},
   "cell_type": "markdown",
   "metadata": {},
   "source": [
    "How many qualitative and quantitative variables are there? How would you transform these values into numerical values?"
   ]
  },
  {
   "attachments": {},
   "cell_type": "markdown",
   "metadata": {},
   "source": [
    "We have three quantitative and eight qualitative variables."
   ]
  },
  {
   "cell_type": "code",
   "execution_count": null,
   "metadata": {},
   "outputs": [],
   "source": [
    "immo_dataset.info()"
   ]
  },
  {
   "attachments": {},
   "cell_type": "markdown",
   "metadata": {},
   "source": [
    "Percentage of missing values per column?\n",
    "\n"
   ]
  },
  {
   "cell_type": "code",
   "execution_count": null,
   "metadata": {},
   "outputs": [],
   "source": [
    "missing_percentage = immo_dataset.isna().mean() * 100\n",
    "print(missing_percentage)"
   ]
  },
  {
   "attachments": {},
   "cell_type": "markdown",
   "metadata": {},
   "source": [
    "Step 3 : Data Interpretation"
   ]
  },
  {
   "attachments": {},
   "cell_type": "markdown",
   "metadata": {},
   "source": [
    "Plot the outliers."
   ]
  },
  {
   "cell_type": "code",
   "execution_count": null,
   "metadata": {},
   "outputs": [],
   "source": [
    "#Convert 'price' column to Pandas Series\n",
    "price_series = pd.Series(immo_dataset['price'])\n",
    "\n",
    "#Create the scatter plot\n",
    "plt.scatter(range(len(price_series)), price_series)\n",
    "\n",
    "#Set plot title and labels\n",
    "plt.title('Scatter plot for Price Variation', fontweight='bold')\n",
    "plt.xlabel('Number of properties', fontweight='bold')\n",
    "plt.ylabel('Price: 100.000 euros', fontweight='bold')\n",
    "plt.savefig(\"outliers_plot.jpg\")\n",
    "\n",
    "#Display the scatter plot\n",
    "plt.show()"
   ]
  },
  {
   "cell_type": "code",
   "execution_count": null,
   "metadata": {},
   "outputs": [],
   "source": [
    "immo_dataset.drop(immo_dataset[(immo_dataset['price'] >= 2000000) & (immo_dataset['postal_code'] == '9400')].index, inplace=True)\n",
    "property_counts = immo_dataset['postal_code'].value_counts()\n",
    "immo_dataset = immo_dataset[immo_dataset['postal_code'].isin(property_counts[property_counts >= 10].index)]\n",
    "immo_dataset.drop(immo_dataset[(immo_dataset['habitable_surface'] <=20)].index, inplace=True)\n",
    "immo_dataset.to_csv(\"outliersremoved.csv\")\n",
    "\n"
   ]
  },
  {
   "attachments": {},
   "cell_type": "markdown",
   "metadata": {},
   "source": [
    "Which variables would you delete and why ?\n"
   ]
  },
  {
   "attachments": {},
   "cell_type": "markdown",
   "metadata": {},
   "source": [
    " 'contruction_year',  'living_area', 'kitchen_fully_equiped', 'terrace_area', 'garden_surface', 'plot_land_surface', 'number_of_facades', 'building_state'\n",
    "\n",
    "We deleted the above variables beacause they had a significant percentage of missing values.\n",
    "\n",
    "'subtype_property',type_of_sale. \n",
    "\n",
    "We deleted the above variables beacause they had no significant influence on the price of properties.\n",
    "\n",
    "'locality',\n",
    "\n",
    "we deleted this variable because it wasn't useful to our analysis, we used postal code instead."
   ]
  },
  {
   "attachments": {},
   "cell_type": "markdown",
   "metadata": {},
   "source": [
    "Represent the number of properties according to their surface using a histogram.\n"
   ]
  },
  {
   "cell_type": "code",
   "execution_count": null,
   "metadata": {},
   "outputs": [],
   "source": [
    "# Extract the 'habitable_surface' data\n",
    "surface = immo_dataset['habitable_surface']\n",
    "\n",
    "# Create the histogram\n",
    "plt.hist(surface, bins=50, edgecolor='black')\n",
    "\n",
    "# Label the axes and add a title\n",
    "plt.xlabel('Surface (sq. meters)',fontsize=12, fontweight='bold')\n",
    "plt.ylabel('Number of Properties',fontsize=12, fontweight='bold')\n",
    "plt.title('Number of properties according to their surface', fontweight='bold')\n",
    "plt.savefig(\"histogram_properties.jpg\")\n",
    "\n",
    "# Display the histogram\n",
    "plt.show()\n",
    "\n"
   ]
  },
  {
   "attachments": {},
   "cell_type": "markdown",
   "metadata": {},
   "source": [
    "In your opinion, which 5 variables are the most important and why?\n"
   ]
  },
  {
   "attachments": {},
   "cell_type": "markdown",
   "metadata": {},
   "source": [
    "The variables with the most influence on property price are:\n",
    "\n",
    "Habitable surface: the biggest the surface the biggest the price.\n",
    "\n",
    "Number of rooms : construction cost increases as the number of room increases.\n",
    "\n",
    "Presence of swimming pool: it is a luxury.\n",
    "\n",
    "Region: Brussels : great population density -> higher demand over supply\n",
    "\n",
    "Presence of terrace: convenience, being able to sit and drink your coffee."
   ]
  },
  {
   "attachments": {},
   "cell_type": "markdown",
   "metadata": {},
   "source": [
    "What are the most expensive municipalities in Belgium? (Average price, median price, price per square meter)\n"
   ]
  },
  {
   "cell_type": "code",
   "execution_count": null,
   "metadata": {},
   "outputs": [],
   "source": [
    "# Calculate price per square meter\n",
    "immo_dataset['price_per_sqm'] = immo_dataset['price'] / immo_dataset['habitable_surface']\n",
    "\n",
    "# Group by region and calculate the average price, median price, and price per square meter\n",
    "region_stats = immo_dataset.groupby('postal_code').agg(\n",
    "    average_price=('price', 'mean'),\n",
    "    median_price=('price', 'median')    \n",
    ")\n",
    "\n",
    "# Sort the regions based on the index (region names) in ascending order\n",
    "sorted_regions = region_stats.sort_index()\n",
    "\n",
    "# Sort the regions based on the average price in descending order\n",
    "most_expensive_regions = region_stats.sort_values(by='average_price', ascending=False).head(5)\n",
    "\n",
    "# Print the most expensive regions and their corresponding statistics\n",
    "print(\"Most Expensive Regions in Belgium:\")\n",
    "print(most_expensive_regions)"
   ]
  },
  {
   "cell_type": "code",
   "execution_count": null,
   "metadata": {},
   "outputs": [],
   "source": [
    "# Calculate price per square meter\n",
    "immo_dataset['price_per_sqm'] = immo_dataset['price'] / immo_dataset['habitable_surface']\n",
    "\n",
    "# Group by postal code and calculate the average price and median price\n",
    "postal_code_stats = immo_dataset.groupby('postal_code').agg(\n",
    "    average_price=('price', 'mean'),\n",
    "    median_price=('price', 'median'),\n",
    ")\n",
    "\n",
    "# Sort the postal codes based on the average price in ascending order\n",
    "most_expensive_postal_codes_average = postal_code_stats.nlargest(10, 'average_price')\n",
    "most_expensive_postal_codes_median = postal_code_stats.nlargest(10, 'median_price')\n",
    "\n",
    "labels = most_expensive_postal_codes_average.index\n",
    "x = np.arange(len(labels))\n",
    "\n",
    "fig, ax = plt.subplots()\n",
    "width = 0.35\n",
    "ax.bar(x - width/2, most_expensive_postal_codes_average['average_price'], width, label='Average')\n",
    "ax.bar(x + width/2, most_expensive_postal_codes_median['median_price'], width, label='Median', color='orange')\n",
    "ax.set_xlabel('Municipalities', fontsize=12, fontweight='bold')\n",
    "ax.set_ylabel('Price', fontsize=12, fontweight='bold')\n",
    "ax.set_title('Average and Median for Most Expensive Municipalities in Belgium', fontweight='bold')\n",
    "ax.set_xticks(x)\n",
    "ax.set_xticklabels(labels)\n",
    "ax.legend()\n",
    "\n",
    "plt.show()"
   ]
  },
  {
   "cell_type": "code",
   "execution_count": null,
   "metadata": {},
   "outputs": [],
   "source": [
    "# Group by postal code and calculate the price per square meter\n",
    "postal_code_stats = immo_dataset.groupby('postal_code').agg(\n",
    "    average_price=('price', 'mean'),\n",
    "    median_price=('price', 'median'),\n",
    "    price_per_sqm=('price_per_sqm', 'mean')\n",
    ")\n",
    "# Get the most expensive postal codes\n",
    "most_expensive_postal_codes = postal_code_stats.nlargest(10, 'price_per_sqm')\n",
    "\n",
    "# Extract the price per square meter values and labels\n",
    "price_per_square_meter_values = most_expensive_postal_codes['price_per_sqm']\n",
    "labels = most_expensive_postal_codes.index\n",
    "\n",
    "fig, ax = plt.subplots()\n",
    "width = 0.35\n",
    "ax.barh(labels, price_per_square_meter_values)\n",
    "ax.set_xlabel('Price per Square Meter', fontweight='bold')\n",
    "ax.set_ylabel('Municipalities', fontweight='bold')\n",
    "ax.set_title('Most Expensive Municipalities in Belgium', fontweight='bold')\n",
    "ax.tick_params(axis='x', rotation=45)\n",
    "for index, value in enumerate(price_per_square_meter_values):\n",
    "    label = format(int(value), ',')\n",
    "    plt.annotate(label, xy=(value-1100, index-0.1), color='white')\n",
    "plt.tight_layout()\n",
    "plt.savefig(\"belgium_expensive_PSQM.jpg\")\n",
    "\n",
    "plt.show()"
   ]
  },
  {
   "attachments": {},
   "cell_type": "markdown",
   "metadata": {},
   "source": [
    "What are the most expensive municipalities in Wallonia? (Average price, median price, price per square meter)\n"
   ]
  },
  {
   "cell_type": "code",
   "execution_count": null,
   "metadata": {},
   "outputs": [],
   "source": [
    "# Filter the dataset for Wallonia\n",
    "wallonia_dataset = immo_dataset[immo_dataset['region'] == 'Wallonie']\n",
    "\n",
    "# Group by postal code and calculate the average price andmedian price\n",
    "postal_code_stats = wallonia_dataset.groupby('postal_code').agg(\n",
    "    average_price=('price', 'mean'),\n",
    "    median_price=('price', 'median'),\n",
    ")\n",
    "\n",
    "# Sort the postal codes based on the average price in ascending order\n",
    "most_expensive_postal_codes_average = postal_code_stats.nlargest(10, 'average_price')\n",
    "most_expensive_postal_codes_median = postal_code_stats.nlargest(10, 'median_price')\n",
    "\n",
    "labels = most_expensive_postal_codes_average.index\n",
    "x = np.arange(len(labels))\n",
    "\n",
    "fig, ax = plt.subplots()\n",
    "\n",
    "width = 0.35\n",
    "\n",
    "ax.bar(x - width/2, most_expensive_postal_codes_average['average_price'], width, label='Mean')\n",
    "ax.bar(x + width/2, most_expensive_postal_codes_median['median_price'], width, label='Median', color='orange')\n",
    "\n",
    "ax.set_xlabel('Municipalities', fontweight='bold')\n",
    "ax.set_ylabel('Price in euros', fontweight='bold')\n",
    "ax.set_title('Mean and Median Comparison - Most Expensive Municipalities in Wallonia', fontweight='bold')\n",
    "ax.set_xticks(x)\n",
    "ax.set_xticklabels(labels)\n",
    "ax.legend()\n",
    "plt.savefig(\"wallonia_expensive_MM.jpg\")\n",
    "\n",
    "plt.show()\n"
   ]
  },
  {
   "cell_type": "code",
   "execution_count": null,
   "metadata": {},
   "outputs": [],
   "source": [
    "# Filter the dataset for Wallonia\n",
    "wallonia_dataset = immo_dataset[immo_dataset['region'] == 'Wallonie']\n",
    "\n",
    "# Group by postal code and calculate the average price, median price, and price per square meter\n",
    "postal_code_stats = wallonia_dataset.groupby('postal_code').agg(\n",
    "    average_price=('price', 'mean'),\n",
    "    median_price=('price', 'median'),\n",
    "    price_per_sqm=('price_per_sqm', 'mean')\n",
    ")\n",
    "\n",
    "# Get the least expensive postal codes\n",
    "most_expensive_postal_codes = postal_code_stats.nlargest(10, 'price_per_sqm')\n",
    "\n",
    "# Extract the price per square meter values and labels\n",
    "price_per_square_meter_values = most_expensive_postal_codes['price_per_sqm']\n",
    "labels = most_expensive_postal_codes.index\n",
    "\n",
    "fig, ax = plt.subplots()\n",
    "width = 0.35\n",
    "ax.barh(labels, price_per_square_meter_values)\n",
    "ax.set_xlabel('Price per Square Meter', fontweight='bold')\n",
    "ax.set_ylabel('Municipalities', fontweight='bold')\n",
    "ax.set_title('Price per Square Meter - Most Expensive Municipalities in Wallonia', fontweight='bold')\n",
    "ax.tick_params(axis='x', rotation=45)\n",
    "for index, value in enumerate(price_per_square_meter_values):\n",
    "    label = format(int(value), ',')\n",
    "    plt.annotate(label, xy=(value-350, index-0.1), color='white')\n",
    "plt.tight_layout()\n",
    "plt.show()"
   ]
  },
  {
   "attachments": {},
   "cell_type": "markdown",
   "metadata": {},
   "source": [
    "What are the most expensive municipalities in Flanders? (Average price, median price, price per square meter)\n"
   ]
  },
  {
   "cell_type": "code",
   "execution_count": null,
   "metadata": {},
   "outputs": [],
   "source": [
    "# Filter the dataset for Flanders\n",
    "flanders_dataset = immo_dataset[immo_dataset['region'] == 'Flanders']\n",
    "\n",
    "# Group by postal code and calculate the average price, median price\n",
    "postal_code_stats = flanders_dataset.groupby('postal_code').agg(\n",
    "    average_price=('price', 'mean'),\n",
    "    median_price=('price', 'median'),\n",
    ")\n",
    "\n",
    "# Sort the postal codes based on the average price in ascending order\n",
    "most_expensive_postal_codes_average = postal_code_stats.nlargest(10, 'average_price')\n",
    "most_expensive_postal_codes_median = postal_code_stats.nlargest(10, 'median_price')\n",
    "\n",
    "labels = most_expensive_postal_codes_average.index\n",
    "x = np.arange(len(labels))\n",
    "\n",
    "fig, ax = plt.subplots()\n",
    "width = 0.35\n",
    "ax.bar(x - width/2, most_expensive_postal_codes_average['average_price'], width, label='Mean')\n",
    "ax.bar(x + width/2, most_expensive_postal_codes_median['median_price'], width, label='Median', color='orange')\n",
    "ax.set_xlabel('Municipalities', fontweight='bold')\n",
    "ax.set_ylabel('Price', fontweight='bold')\n",
    "ax.set_title('Mean and Median Comparison - Most Expensive Municipalities in Flanders', fontweight='bold')\n",
    "ax.set_xticks(x)\n",
    "ax.set_xticklabels(labels)\n",
    "ax.legend()\n",
    "plt.savefig(\"Flanders_expensive_MM.jpg\")\n",
    "plt.show()\n"
   ]
  },
  {
   "cell_type": "code",
   "execution_count": null,
   "metadata": {},
   "outputs": [],
   "source": [
    "# Filter the dataset for Flanders\n",
    "flanders_dataset = immo_dataset[immo_dataset['region'] == 'Flanders']\n",
    "\n",
    "# Group by postal code and calculate the price per square meter\n",
    "postal_code_stats = flanders_dataset.groupby('postal_code').agg(\n",
    "    average_price=('price', 'mean'),\n",
    "    median_price=('price', 'median'),\n",
    "    price_per_sqm=('price_per_sqm', 'mean')\n",
    ")\n",
    "\n",
    "# Get the least expensive postal codes\n",
    "most_expensive_postal_codes = postal_code_stats.nlargest(10, 'price_per_sqm')\n",
    "\n",
    "# Extract the price per square meter values and labels\n",
    "price_per_square_meter_values = most_expensive_postal_codes['price_per_sqm']\n",
    "labels = most_expensive_postal_codes.index\n",
    "\n",
    "fig, ax = plt.subplots()\n",
    "width = 0.35\n",
    "ax.barh(labels, price_per_square_meter_values)\n",
    "ax.set_xlabel('Price per Square Meter', fontweight='bold')\n",
    "ax.set_ylabel('Municipalities', fontweight='bold')\n",
    "ax.set_title('Price per Square Meter - Most Expensive Municipalities in Flanders', fontweight='bold')\n",
    "ax.tick_params(axis='x', rotation=45)\n",
    "for index, value in enumerate(price_per_square_meter_values):\n",
    "    label = format(int(value), ',')\n",
    "    plt.annotate(label, xy=(value-1100, index-0.1), color='white')\n",
    "plt.tight_layout()\n",
    "plt.show()"
   ]
  },
  {
   "attachments": {},
   "cell_type": "markdown",
   "metadata": {},
   "source": [
    "What are the less expensive municipalities in Belgium? (Average price, median price, price per square meter)\n"
   ]
  },
  {
   "cell_type": "code",
   "execution_count": null,
   "metadata": {},
   "outputs": [],
   "source": [
    "\n",
    "# Calculate price per square meter\n",
    "immo_dataset['price_per_sqm'] = immo_dataset['price'] / immo_dataset['habitable_surface']\n",
    "\n",
    "# Group by region and calculate the average price, median price, and price per square meter\n",
    "region_stats = immo_dataset.groupby('postal_code').agg(\n",
    "    average_price=('price', 'mean'),\n",
    "    median_price=('price', 'median')    \n",
    ")\n",
    "\n",
    "# Sort the regions based on the index (region names) in ascending order\n",
    "sorted_regions = region_stats.sort_index()\n",
    "\n",
    "# Sort the regions based on the average price in descending order\n",
    "least_expensive_regions = region_stats.sort_values(by='average_price', ascending=True).head(5)\n",
    "\n",
    "# Print the most expensive regions and their corresponding statistics\n",
    "print(\"Less Expensive Regions in Belgium:\")\n",
    "print(least_expensive_regions)\n"
   ]
  },
  {
   "cell_type": "code",
   "execution_count": null,
   "metadata": {},
   "outputs": [],
   "source": [
    "# Calculate price per square meter\n",
    "immo_dataset['price_per_sqm'] = immo_dataset['price'] / immo_dataset['habitable_surface']\n",
    "\n",
    "# Group by postal code and calculate the average price, median price, and price per square meter\n",
    "postal_code_stats = immo_dataset.groupby('postal_code').agg(\n",
    "    average_price=('price', 'mean'),\n",
    "    median_price=('price', 'median'),\n",
    ")\n",
    "# Sort the postal codes based on the average price in ascending order\n",
    "least_expensive_postal_codes_average = postal_code_stats.nsmallest(10, 'average_price')\n",
    "least_expensive_postal_codes_median = postal_code_stats.nsmallest(10, 'median_price')\n",
    "\n",
    "labels = least_expensive_postal_codes_average.index\n",
    "x = np.arange(len(labels))\n",
    "\n",
    "fig, ax = plt.subplots()\n",
    "\n",
    "width = 0.35\n",
    "\n",
    "ax.bar(x - width/2, least_expensive_postal_codes_average['average_price'], width, label='Mean')\n",
    "ax.bar(x + width/2, least_expensive_postal_codes_median['median_price'], width, label='Median', color='orange')\n",
    "\n",
    "ax.set_xlabel('Municipalities', fontweight='bold')\n",
    "ax.set_ylabel('Price', fontweight='bold')\n",
    "ax.set_title('Mean and Median Comparison - Less Expensive Municipalities in Belgium', fontweight='bold')\n",
    "ax.set_xticks(x)\n",
    "ax.set_xticklabels(labels)\n",
    "ax.legend()\n",
    "plt.savefig(\"belgium_cheapest_MM.jpg\")\n",
    "plt.show()"
   ]
  },
  {
   "cell_type": "code",
   "execution_count": null,
   "metadata": {},
   "outputs": [],
   "source": [
    "# Group by postal code and calculate the average price, median price, and price per square meter\n",
    "postal_code_stats = immo_dataset.groupby('postal_code').agg(\n",
    "    average_price=('price', 'mean'),\n",
    "    median_price=('price', 'median'),\n",
    "    price_per_sqm=('price_per_sqm', 'mean')\n",
    ")\n",
    "\n",
    "# Get the least expensive postal codes\n",
    "least_expensive_postal_codes = postal_code_stats.nsmallest(10, 'price_per_sqm')\n",
    "\n",
    "# Extract the price per square meter values and labels\n",
    "price_per_square_meter_values = least_expensive_postal_codes['price_per_sqm']\n",
    "labels = least_expensive_postal_codes.index\n",
    "\n",
    "fig, ax = plt.subplots()\n",
    "width = 0.35\n",
    "ax.barh(labels, price_per_square_meter_values)\n",
    "ax.set_xlabel('Price per Square Meter', fontweight='bold')\n",
    "ax.set_ylabel('Municipalities', fontweight='bold')\n",
    "ax.set_title('Price per Square Meter - Less Expensive Municipalities in Belgium', fontweight='bold')\n",
    "ax.tick_params(axis='x', rotation=45)\n",
    "for index, value in enumerate(price_per_square_meter_values):\n",
    "    label = format(int(value), ',')\n",
    "    plt.annotate(label, xy=(value-110, index-0.1), color='white')\n",
    "plt.tight_layout()\n",
    "plt.show()"
   ]
  },
  {
   "attachments": {},
   "cell_type": "markdown",
   "metadata": {},
   "source": [
    "What are the less expensive municipalities in Wallonia? (Average price, median price, price per square meter)\n"
   ]
  },
  {
   "cell_type": "code",
   "execution_count": null,
   "metadata": {},
   "outputs": [],
   "source": [
    "# Filter the dataset for Wallonia\n",
    "wallonia_dataset = immo_dataset[immo_dataset['region'] == 'Wallonie']\n",
    "\n",
    "# Group by postal code and calculate the average price, median price\n",
    "postal_code_stats = wallonia_dataset.groupby('postal_code').agg(\n",
    "    average_price=('price', 'mean'),\n",
    "    median_price=('price', 'median'),\n",
    ")\n",
    "\n",
    "# Sort the postal codes based on the average price in ascending order\n",
    "least_expensive_postal_codes_average = postal_code_stats.nsmallest(10, 'average_price')\n",
    "least_expensive_postal_codes_median = postal_code_stats.nsmallest(10, 'median_price')\n",
    "\n",
    "labels = least_expensive_postal_codes_average.index\n",
    "x = np.arange(len(labels))\n",
    "\n",
    "fig, ax = plt.subplots()\n",
    "width = 0.35\n",
    "ax.bar(x - width/2, least_expensive_postal_codes_average['average_price'], width, label='Mean',)\n",
    "ax.bar(x + width/2, least_expensive_postal_codes_median['median_price'], width, label='Median', color='orange')\n",
    "#ax.bar(x + width, price_per_square_meter_values, width, label='Price per square meter', color='green')\n",
    "\n",
    "ax.set_xlabel('Municipalities', fontweight='bold')\n",
    "ax.set_ylabel('Price', fontweight='bold')\n",
    "ax.set_title('Mean and Median Comparison - Less Expensive Municipalities in Wallonia', fontweight='bold')\n",
    "ax.set_xticks(x)\n",
    "ax.set_xticklabels(labels)\n",
    "ax.legend()\n",
    "plt.savefig(\"walloinia_cheapest_MM.jpg\")\n",
    "\n",
    "plt.show()"
   ]
  },
  {
   "cell_type": "code",
   "execution_count": null,
   "metadata": {},
   "outputs": [],
   "source": [
    "\n",
    "# Filter the dataset for Wallonia\n",
    "wallonia_dataset = immo_dataset[immo_dataset['region'] == 'Wallonie']\n",
    "\n",
    "# Group by postal code and calculate the price per square meter\n",
    "postal_code_stats = wallonia_dataset.groupby('postal_code').agg(\n",
    "    average_price=('price', 'mean'),\n",
    "    median_price=('price', 'median'),\n",
    "    price_per_sqm=('price_per_sqm', 'mean')\n",
    ")\n",
    "\n",
    "# Get the least expensive postal codes\n",
    "least_expensive_postal_codes = postal_code_stats.nsmallest(10, 'price_per_sqm')\n",
    "\n",
    "# Extract the price per square meter values and labels\n",
    "price_per_square_meter_values = least_expensive_postal_codes['price_per_sqm']\n",
    "labels = least_expensive_postal_codes.index\n",
    "\n",
    "fig, ax = plt.subplots()\n",
    "width = 0.35\n",
    "ax.barh(labels, price_per_square_meter_values)\n",
    "ax.set_xlabel('Municipalities', fontweight='bold')\n",
    "ax.set_ylabel('Price per Square Meter', fontweight='bold')\n",
    "ax.set_title('Price per Square Meter - Less Expensive Municipalities in Wallonia', fontweight='bold')\n",
    "ax.tick_params(axis='x', rotation=45)\n",
    "for index, value in enumerate(price_per_square_meter_values):\n",
    "    label = format(int(value), ',')\n",
    "    plt.annotate(label, xy=(value-110, index-0.1), color='white')\n",
    "plt.tight_layout()\n",
    "plt.show()"
   ]
  },
  {
   "attachments": {},
   "cell_type": "markdown",
   "metadata": {},
   "source": [
    "What are the less expensive municipalities in Flanders? (Average price, median price, price per square meter)\n"
   ]
  },
  {
   "cell_type": "code",
   "execution_count": null,
   "metadata": {},
   "outputs": [],
   "source": [
    "\n",
    "# Filter the dataset for Flanders\n",
    "flanders_dataset = immo_dataset[immo_dataset['region'] == 'Flanders']\n",
    "\n",
    "# Group by postal code and calculate the average price, median price\n",
    "postal_code_stats = flanders_dataset.groupby('postal_code').agg(\n",
    "    average_price=('price', 'mean'),\n",
    "    median_price=('price', 'median'),\n",
    ")\n",
    "\n",
    "# Sort the postal codes based on the average price in ascending order\n",
    "least_expensive_postal_codes_average = postal_code_stats.nsmallest(10, 'average_price')\n",
    "least_expensive_postal_codes_median = postal_code_stats.nsmallest(10, 'median_price')\n",
    "\n",
    "labels = least_expensive_postal_codes_average.index\n",
    "x = np.arange(len(labels))\n",
    "\n",
    "fig, ax = plt.subplots()\n",
    "width = 0.35\n",
    "ax.bar(x - width/2, least_expensive_postal_codes_average['average_price'], width, label='Mean')\n",
    "ax.bar(x + width/2, least_expensive_postal_codes_median['median_price'], width, label='Median', color='orange')\n",
    "\n",
    "ax.set_xlabel('Municipalities', fontweight='bold')\n",
    "ax.set_ylabel('Price', fontweight='bold')\n",
    "ax.set_title('Mean and Median Comparison - Less Expensive Municipalities in Flanders', fontweight='bold')\n",
    "ax.set_xticks(x)\n",
    "ax.set_xticklabels(labels)\n",
    "ax.legend()\n",
    "plt.savefig(\"Flanders_cheapest_MM.jpg\")\n",
    "\n",
    "plt.show()\n"
   ]
  },
  {
   "cell_type": "code",
   "execution_count": null,
   "metadata": {},
   "outputs": [],
   "source": [
    "# Filter the dataset for Flanders\n",
    "flanders_dataset = immo_dataset[immo_dataset['region'] == 'Flanders']\n",
    "\n",
    "# Group by postal code and calculate the price per square meter\n",
    "postal_code_stats = flanders_dataset.groupby('postal_code').agg(\n",
    "    average_price=('price', 'mean'),\n",
    "    median_price=('price', 'median'),\n",
    "    price_per_sqm=('price_per_sqm', 'mean')\n",
    ")\n",
    "# Get the least expensive postal codes\n",
    "least_expensive_postal_codes = postal_code_stats.nsmallest(10, 'price_per_sqm')\n",
    "\n",
    "# Extract the price per square meter values and labels\n",
    "price_per_square_meter_values = least_expensive_postal_codes['price_per_sqm']\n",
    "labels = least_expensive_postal_codes.index\n",
    "\n",
    "fig, ax = plt.subplots()\n",
    "width = 0.35\n",
    "ax.barh(labels, price_per_square_meter_values)\n",
    "ax.set_xlabel('Price per Square Meter', fontweight='bold')\n",
    "ax.set_ylabel('Municipalities', fontweight='bold')\n",
    "ax.set_title('Price per Square Meter - Less Expensive Municipalities in Flanders', fontweight='bold')\n",
    "ax.tick_params(axis='x', rotation=45)\n",
    "for index, value in enumerate(price_per_square_meter_values):\n",
    "    label = format(int(value), ',')\n",
    "    plt.annotate(label, xy=(value-150, index-0.1), color='white')\n",
    "plt.tight_layout()\n",
    "plt.show()"
   ]
  },
  {
   "cell_type": "code",
   "execution_count": null,
   "metadata": {},
   "outputs": [],
   "source": [
    "# Filter the dataset for Flanders\n",
    "brussels_dataset = immo_dataset[immo_dataset['region'] == 'Brussels']\n",
    "\n",
    "# Group by postal code and calculate the average price, median price\n",
    "postal_code_stats = brussels_dataset.groupby('postal_code').agg(\n",
    "    average_price=('price', 'mean'),\n",
    "    median_price=('price', 'median'),\n",
    ")\n",
    "\n",
    "# Sort the postal codes based on the average price in ascending order\n",
    "least_expensive_postal_codes_average = postal_code_stats.nsmallest(10, 'average_price')\n",
    "least_expensive_postal_codes_median = postal_code_stats.nsmallest(10, 'median_price')\n",
    "\n",
    "labels = least_expensive_postal_codes_average.index\n",
    "x = np.arange(len(labels))\n",
    "\n",
    "fig, ax = plt.subplots()\n",
    "width = 0.35\n",
    "ax.bar(x - width/2, least_expensive_postal_codes_average['average_price'], width, label='Mean')\n",
    "ax.bar(x + width/2, least_expensive_postal_codes_median['median_price'], width, label='Median', color='orange')\n",
    "\n",
    "ax.set_xlabel('Municipalities', fontweight='bold')\n",
    "ax.set_ylabel('Price', fontweight='bold')\n",
    "ax.set_title('Mean and Median Comparison - Less Expensive Municipalities in Brussels', fontweight='bold')\n",
    "ax.set_xticks(x)\n",
    "ax.set_xticklabels(labels)\n",
    "ax.legend()\n",
    "plt.savefig(\"Brussels_cheapest_MM.jpg\")"
   ]
  },
  {
   "cell_type": "code",
   "execution_count": null,
   "metadata": {},
   "outputs": [],
   "source": [
    "# Filter the dataset for Flanders\n",
    "brussels_dataset = immo_dataset[immo_dataset['region'] == 'Brussels']\n",
    "\n",
    "# Group by postal code and calculate the price per square meter\n",
    "postal_code_stats = brussels_dataset.groupby('postal_code').agg(\n",
    "    average_price=('price', 'mean'),\n",
    "    median_price=('price', 'median'),\n",
    "    price_per_sqm=('price_per_sqm', 'mean')\n",
    ")\n",
    "# Get the least expensive postal codes\n",
    "least_expensive_postal_codes = postal_code_stats.nsmallest(10, 'price_per_sqm')\n",
    "\n",
    "# Extract the price per square meter values and labels\n",
    "price_per_square_meter_values = least_expensive_postal_codes['price_per_sqm']\n",
    "labels = least_expensive_postal_codes.index\n",
    "\n",
    "fig, ax = plt.subplots()\n",
    "width = 0.35\n",
    "ax.barh(labels, price_per_square_meter_values)\n",
    "ax.set_xlabel('Price per Square Meter', fontweight='bold')\n",
    "ax.set_ylabel('Municipalities', fontweight='bold')\n",
    "ax.set_title('Price per Square Meter - Less Expensive Municipalities in Brussels', fontweight='bold')\n",
    "ax.tick_params(axis='x', rotation=45)\n",
    "for index, value in enumerate(price_per_square_meter_values):\n",
    "    label = format(int(value), ',')\n",
    "    plt.annotate(label, xy=(value-300, index-0.1), color='white')\n",
    "plt.tight_layout()\n",
    "plt.savefig(\"brussels_cheapeat_PSQM.jpg\")\n",
    "\n",
    "plt.show()"
   ]
  },
  {
   "cell_type": "code",
   "execution_count": null,
   "metadata": {},
   "outputs": [],
   "source": [
    "brussels_dataset = immo_dataset[immo_dataset['region'] == 'Brussels']\n",
    "\n",
    "# Group by postal code and calculate the average price andmedian price\n",
    "postal_code_stats = brussels_dataset.groupby('postal_code').agg(\n",
    "    average_price=('price', 'mean'),\n",
    "    median_price=('price', 'median'),\n",
    ")\n",
    "\n",
    "# Sort the postal codes based on the average price in ascending order\n",
    "most_expensive_postal_codes_average = postal_code_stats.nlargest(10, 'average_price')\n",
    "most_expensive_postal_codes_median = postal_code_stats.nlargest(10, 'median_price')\n",
    "\n",
    "labels = most_expensive_postal_codes_average.index\n",
    "x = np.arange(len(labels))\n",
    "\n",
    "fig, ax = plt.subplots()\n",
    "\n",
    "width = 0.35\n",
    "\n",
    "ax.bar(x - width/2, most_expensive_postal_codes_average['average_price'], width, label='Mean')\n",
    "ax.bar(x + width/2, most_expensive_postal_codes_median['median_price'], width, label='Median', color='orange')\n",
    "\n",
    "ax.set_xlabel('Municipalities', fontweight='bold')\n",
    "ax.set_ylabel('Price in euros', fontweight='bold')\n",
    "ax.set_title('Mean and Median Comparison - Most Expensive Municipalities in Brussels', fontweight='bold')\n",
    "ax.set_xticks(x)\n",
    "ax.set_xticklabels(labels)\n",
    "ax.legend()\n",
    "plt.savefig(\"brussels_expensive_MM.jpg\")\n",
    "\n",
    "plt.show()"
   ]
  },
  {
   "cell_type": "code",
   "execution_count": null,
   "metadata": {},
   "outputs": [],
   "source": [
    "# Filter the dataset for Wallonia\n",
    "brussels_dataset = immo_dataset[immo_dataset['region'] == 'Brussels']\n",
    "\n",
    "# Group by postal code and calculate the average price, median price, and price per square meter\n",
    "postal_code_stats = brussels_dataset.groupby('postal_code').agg(\n",
    "    average_price=('price', 'mean'),\n",
    "    median_price=('price', 'median'),\n",
    "    price_per_sqm=('price_per_sqm', 'mean')\n",
    ")\n",
    "\n",
    "# Get the least expensive postal codes\n",
    "most_expensive_postal_codes = postal_code_stats.nlargest(10, 'price_per_sqm')\n",
    "\n",
    "# Extract the price per square meter values and labels\n",
    "price_per_square_meter_values = most_expensive_postal_codes['price_per_sqm']\n",
    "labels = most_expensive_postal_codes.index\n",
    "\n",
    "fig, ax = plt.subplots()\n",
    "width = 0.35\n",
    "ax.barh(labels, price_per_square_meter_values)\n",
    "ax.set_xlabel('Price per Square Meter', fontweight='bold')\n",
    "ax.set_ylabel('Municipalities', fontweight='bold')\n",
    "ax.set_title('Price per Square Meter - Most Expensive Municipalities in Brussels', fontweight='bold')\n",
    "ax.tick_params(axis='x', rotation=45)\n",
    "for index, value in enumerate(price_per_square_meter_values):\n",
    "    label = format(int(value), ',')\n",
    "    plt.annotate(label, xy=(value-400, index-0.1), color='white')\n",
    "plt.tight_layout()\n",
    "plt.savefig(\"brussels_expensive_PSQM.jpg\")\n",
    "plt.show()"
   ]
  }
 ],
 "metadata": {
  "kernelspec": {
   "display_name": "env",
   "language": "python",
   "name": "python3"
  },
  "language_info": {
   "codemirror_mode": {
    "name": "ipython",
    "version": 3
   },
   "file_extension": ".py",
   "mimetype": "text/x-python",
   "name": "python",
   "nbconvert_exporter": "python",
   "pygments_lexer": "ipython3",
   "version": "3.11.3"
  },
  "orig_nbformat": 4
 },
 "nbformat": 4,
 "nbformat_minor": 2
}
