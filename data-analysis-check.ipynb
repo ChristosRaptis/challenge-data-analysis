{
 "cells": [
  {
   "cell_type": "code",
   "execution_count": 1,
   "metadata": {},
   "outputs": [],
   "source": [
    "import pandas as pd\n",
    "import numpy as np\n",
    "import re\n",
    "from matplotlib import pyplot as plt\n",
    "import seaborn as sns\n"
   ]
  },
  {
   "cell_type": "code",
   "execution_count": 2,
   "metadata": {},
   "outputs": [
    {
     "data": {
      "text/html": [
       "<div>\n",
       "<style scoped>\n",
       "    .dataframe tbody tr th:only-of-type {\n",
       "        vertical-align: middle;\n",
       "    }\n",
       "\n",
       "    .dataframe tbody tr th {\n",
       "        vertical-align: top;\n",
       "    }\n",
       "\n",
       "    .dataframe thead th {\n",
       "        text-align: right;\n",
       "    }\n",
       "</style>\n",
       "<table border=\"1\" class=\"dataframe\">\n",
       "  <thead>\n",
       "    <tr style=\"text-align: right;\">\n",
       "      <th></th>\n",
       "      <th>locality</th>\n",
       "      <th>postal_code</th>\n",
       "      <th>region</th>\n",
       "      <th>property_type</th>\n",
       "      <th>subtype_property</th>\n",
       "      <th>price</th>\n",
       "      <th>contruction_year</th>\n",
       "      <th>type_of_sale</th>\n",
       "      <th>number_of_rooms</th>\n",
       "      <th>living_area</th>\n",
       "      <th>...</th>\n",
       "      <th>has_open_fire</th>\n",
       "      <th>has_terrace</th>\n",
       "      <th>terrace_area</th>\n",
       "      <th>has_garden</th>\n",
       "      <th>garden_surface</th>\n",
       "      <th>habitable_surface</th>\n",
       "      <th>plot_land_surface</th>\n",
       "      <th>number_of_facades</th>\n",
       "      <th>has_swimming_pool</th>\n",
       "      <th>building_state</th>\n",
       "    </tr>\n",
       "  </thead>\n",
       "  <tbody>\n",
       "    <tr>\n",
       "      <th>0</th>\n",
       "      <td>Deinze</td>\n",
       "      <td>9800</td>\n",
       "      <td>Flanders</td>\n",
       "      <td>APARTMENT</td>\n",
       "      <td>APARTMENT</td>\n",
       "      <td>395000.0</td>\n",
       "      <td>2023.0</td>\n",
       "      <td>residential_sale</td>\n",
       "      <td>2</td>\n",
       "      <td>22.0</td>\n",
       "      <td>...</td>\n",
       "      <td>0</td>\n",
       "      <td>1</td>\n",
       "      <td>12.0</td>\n",
       "      <td>1</td>\n",
       "      <td>NaN</td>\n",
       "      <td>99.0</td>\n",
       "      <td>NaN</td>\n",
       "      <td>4.0</td>\n",
       "      <td>0</td>\n",
       "      <td>AS_NEW</td>\n",
       "    </tr>\n",
       "    <tr>\n",
       "      <th>1</th>\n",
       "      <td>Halle</td>\n",
       "      <td>1500</td>\n",
       "      <td>Flanders</td>\n",
       "      <td>HOUSE</td>\n",
       "      <td>HOUSE</td>\n",
       "      <td>385000.0</td>\n",
       "      <td>NaN</td>\n",
       "      <td>residential_sale</td>\n",
       "      <td>3</td>\n",
       "      <td>NaN</td>\n",
       "      <td>...</td>\n",
       "      <td>0</td>\n",
       "      <td>0</td>\n",
       "      <td>NaN</td>\n",
       "      <td>0</td>\n",
       "      <td>NaN</td>\n",
       "      <td>158.0</td>\n",
       "      <td>NaN</td>\n",
       "      <td>NaN</td>\n",
       "      <td>0</td>\n",
       "      <td>NaN</td>\n",
       "    </tr>\n",
       "    <tr>\n",
       "      <th>2</th>\n",
       "      <td>Antwerp</td>\n",
       "      <td>2060</td>\n",
       "      <td>Flanders</td>\n",
       "      <td>APARTMENT</td>\n",
       "      <td>APARTMENT</td>\n",
       "      <td>140000.0</td>\n",
       "      <td>NaN</td>\n",
       "      <td>residential_sale</td>\n",
       "      <td>1</td>\n",
       "      <td>NaN</td>\n",
       "      <td>...</td>\n",
       "      <td>0</td>\n",
       "      <td>1</td>\n",
       "      <td>8.0</td>\n",
       "      <td>0</td>\n",
       "      <td>NaN</td>\n",
       "      <td>44.0</td>\n",
       "      <td>NaN</td>\n",
       "      <td>NaN</td>\n",
       "      <td>0</td>\n",
       "      <td>NaN</td>\n",
       "    </tr>\n",
       "    <tr>\n",
       "      <th>3</th>\n",
       "      <td>Antwerp</td>\n",
       "      <td>2018</td>\n",
       "      <td>Flanders</td>\n",
       "      <td>APARTMENT</td>\n",
       "      <td>APARTMENT</td>\n",
       "      <td>215000.0</td>\n",
       "      <td>NaN</td>\n",
       "      <td>residential_sale</td>\n",
       "      <td>2</td>\n",
       "      <td>NaN</td>\n",
       "      <td>...</td>\n",
       "      <td>0</td>\n",
       "      <td>0</td>\n",
       "      <td>NaN</td>\n",
       "      <td>0</td>\n",
       "      <td>NaN</td>\n",
       "      <td>75.0</td>\n",
       "      <td>NaN</td>\n",
       "      <td>NaN</td>\n",
       "      <td>0</td>\n",
       "      <td>NaN</td>\n",
       "    </tr>\n",
       "    <tr>\n",
       "      <th>4</th>\n",
       "      <td>Edegem</td>\n",
       "      <td>2650</td>\n",
       "      <td>Flanders</td>\n",
       "      <td>APARTMENT</td>\n",
       "      <td>APARTMENT</td>\n",
       "      <td>349900.0</td>\n",
       "      <td>NaN</td>\n",
       "      <td>residential_sale</td>\n",
       "      <td>2</td>\n",
       "      <td>NaN</td>\n",
       "      <td>...</td>\n",
       "      <td>0</td>\n",
       "      <td>1</td>\n",
       "      <td>NaN</td>\n",
       "      <td>0</td>\n",
       "      <td>NaN</td>\n",
       "      <td>103.0</td>\n",
       "      <td>NaN</td>\n",
       "      <td>NaN</td>\n",
       "      <td>0</td>\n",
       "      <td>NaN</td>\n",
       "    </tr>\n",
       "  </tbody>\n",
       "</table>\n",
       "<p>5 rows × 22 columns</p>\n",
       "</div>"
      ],
      "text/plain": [
       "  locality postal_code    region property_type subtype_property     price   \n",
       "0   Deinze        9800  Flanders     APARTMENT        APARTMENT  395000.0  \\\n",
       "1    Halle        1500  Flanders         HOUSE            HOUSE  385000.0   \n",
       "2  Antwerp        2060  Flanders     APARTMENT        APARTMENT  140000.0   \n",
       "3  Antwerp        2018  Flanders     APARTMENT        APARTMENT  215000.0   \n",
       "4   Edegem        2650  Flanders     APARTMENT        APARTMENT  349900.0   \n",
       "\n",
       "   contruction_year      type_of_sale  number_of_rooms  living_area  ...   \n",
       "0            2023.0  residential_sale                2         22.0  ...  \\\n",
       "1               NaN  residential_sale                3          NaN  ...   \n",
       "2               NaN  residential_sale                1          NaN  ...   \n",
       "3               NaN  residential_sale                2          NaN  ...   \n",
       "4               NaN  residential_sale                2          NaN  ...   \n",
       "\n",
       "   has_open_fire  has_terrace  terrace_area  has_garden  garden_surface   \n",
       "0              0            1          12.0           1             NaN  \\\n",
       "1              0            0           NaN           0             NaN   \n",
       "2              0            1           8.0           0             NaN   \n",
       "3              0            0           NaN           0             NaN   \n",
       "4              0            1           NaN           0             NaN   \n",
       "\n",
       "   habitable_surface  plot_land_surface  number_of_facades  has_swimming_pool   \n",
       "0               99.0                NaN                4.0                  0  \\\n",
       "1              158.0                NaN                NaN                  0   \n",
       "2               44.0                NaN                NaN                  0   \n",
       "3               75.0                NaN                NaN                  0   \n",
       "4              103.0                NaN                NaN                  0   \n",
       "\n",
       "   building_state  \n",
       "0          AS_NEW  \n",
       "1             NaN  \n",
       "2             NaN  \n",
       "3             NaN  \n",
       "4             NaN  \n",
       "\n",
       "[5 rows x 22 columns]"
      ]
     },
     "execution_count": 2,
     "metadata": {},
     "output_type": "execute_result"
    }
   ],
   "source": [
    "immo_dataset = pd.read_csv('data/fulldata.csv')\n",
    "\n",
    "immo_dataset.head()\n"
   ]
  },
  {
   "cell_type": "code",
   "execution_count": 3,
   "metadata": {},
   "outputs": [
    {
     "name": "stdout",
     "output_type": "stream",
     "text": [
      "<class 'pandas.core.frame.DataFrame'>\n",
      "RangeIndex: 11243 entries, 0 to 11242\n",
      "Data columns (total 22 columns):\n",
      " #   Column                 Non-Null Count  Dtype  \n",
      "---  ------                 --------------  -----  \n",
      " 0   locality               11243 non-null  object \n",
      " 1   postal_code            11243 non-null  object \n",
      " 2   region                 11171 non-null  object \n",
      " 3   property_type          11243 non-null  object \n",
      " 4   subtype_property       11243 non-null  object \n",
      " 5   price                  11242 non-null  float64\n",
      " 6   contruction_year       2406 non-null   float64\n",
      " 7   type_of_sale           11243 non-null  object \n",
      " 8   number_of_rooms        11243 non-null  int64  \n",
      " 9   living_area            3438 non-null   float64\n",
      " 10  kitchen_fully_equiped  3438 non-null   float64\n",
      " 11  is_furnished           11243 non-null  int64  \n",
      " 12  has_open_fire          11243 non-null  int64  \n",
      " 13  has_terrace            11243 non-null  int64  \n",
      " 14  terrace_area           4678 non-null   float64\n",
      " 15  has_garden             11243 non-null  int64  \n",
      " 16  garden_surface         2473 non-null   float64\n",
      " 17  habitable_surface      10636 non-null  float64\n",
      " 18  plot_land_surface      2735 non-null   float64\n",
      " 19  number_of_facades      2926 non-null   float64\n",
      " 20  has_swimming_pool      11243 non-null  int64  \n",
      " 21  building_state         3030 non-null   object \n",
      "dtypes: float64(9), int64(6), object(7)\n",
      "memory usage: 1.9+ MB\n"
     ]
    }
   ],
   "source": [
    "immo_dataset.info()"
   ]
  },
  {
   "attachments": {},
   "cell_type": "markdown",
   "metadata": {},
   "source": [
    "Step 1: Data Cleaning\n"
   ]
  },
  {
   "attachments": {},
   "cell_type": "markdown",
   "metadata": {},
   "source": [
    "Remove spaces from all columns."
   ]
  },
  {
   "cell_type": "code",
   "execution_count": 18,
   "metadata": {},
   "outputs": [
    {
     "name": "stdout",
     "output_type": "stream",
     "text": [
      "<class 'pandas.core.frame.DataFrame'>\n",
      "RangeIndex: 11243 entries, 0 to 11242\n",
      "Data columns (total 7 columns):\n",
      " #   Column            Non-Null Count  Dtype \n",
      "---  ------            --------------  ----- \n",
      " 0   locality          11243 non-null  object\n",
      " 1   postal_code       11243 non-null  object\n",
      " 2   region            11171 non-null  object\n",
      " 3   property_type     11243 non-null  object\n",
      " 4   subtype_property  11243 non-null  object\n",
      " 5   type_of_sale      11243 non-null  object\n",
      " 6   building_state    3030 non-null   object\n",
      "dtypes: object(7)\n",
      "memory usage: 615.0+ KB\n"
     ]
    }
   ],
   "source": [
    "immo_dataset.select_dtypes(['object'])"
   ]
  },
  {
   "cell_type": "code",
   "execution_count": null,
   "metadata": {},
   "outputs": [],
   "source": [
    "#remove space from all columns\n",
    "immo_dataset_space_removed = immo_dataset.apply(lambda x: x.str.strip() if x.dtype == \"object\" else x)\n",
    "print(immo_dataset_space_removed)\n",
    "immo_dataset['postal_code'] = immo_dataset['postal_code'].str.replace(' ', '')\n",
    "print(immo_dataset['postal_code'].unique())"
   ]
  },
  {
   "attachments": {},
   "cell_type": "markdown",
   "metadata": {},
   "source": [
    "Remove letters from postal_code.\n"
   ]
  },
  {
   "cell_type": "code",
   "execution_count": null,
   "metadata": {},
   "outputs": [],
   "source": [
    "immo_dataset['postal_code'] = immo_dataset['postal_code'].str.replace('MK', '')\n",
    "immo_dataset['postal_code'] = immo_dataset['postal_code'].str.replace('AN', '')\n",
    "immo_dataset['postal_code'] = immo_dataset['postal_code'].str.replace('KA', '')\n",
    "immo_dataset['postal_code'] = immo_dataset['postal_code'].str.replace('AG', '')"
   ]
  },
  {
   "attachments": {},
   "cell_type": "markdown",
   "metadata": {},
   "source": [
    "We dropped columns from main data because it had hight % of missing values."
   ]
  },
  {
   "cell_type": "code",
   "execution_count": null,
   "metadata": {},
   "outputs": [],
   "source": [
    "missing_percentage = immo_dataset.isna().mean() * 100\n",
    "print(missing_percentage)"
   ]
  },
  {
   "cell_type": "code",
   "execution_count": null,
   "metadata": {},
   "outputs": [],
   "source": [
    "drop_columns = ['locality', 'contruction_year', 'living_area', 'kitchen_fully_equiped', 'terrace_area', 'garden_surface', 'plot_land_surface', 'number_of_facades', 'building_state']\n",
    "immo_dataset.drop(drop_columns , axis=1, inplace=True)\n",
    "immo_dataset.head(10)\n"
   ]
  },
  {
   "cell_type": "code",
   "execution_count": null,
   "metadata": {},
   "outputs": [],
   "source": [
    "duplicate_rows = immo_dataset.duplicated()\n",
    "duplicate_data = immo_dataset[duplicate_rows]\n",
    "\n",
    "print(duplicate_data)"
   ]
  },
  {
   "cell_type": "code",
   "execution_count": null,
   "metadata": {},
   "outputs": [],
   "source": [
    "immo_dataset = immo_dataset.reset_index(drop=True)"
   ]
  },
  {
   "cell_type": "code",
   "execution_count": null,
   "metadata": {},
   "outputs": [],
   "source": [
    "immo_dataset.drop_duplicates(inplace=True)\n",
    "immo_dataset.to_csv('immo_clean1.csv')"
   ]
  },
  {
   "cell_type": "code",
   "execution_count": null,
   "metadata": {},
   "outputs": [],
   "source": [
    "immo_dataset.info()"
   ]
  },
  {
   "cell_type": "code",
   "execution_count": null,
   "metadata": {},
   "outputs": [],
   "source": []
  },
  {
   "cell_type": "code",
   "execution_count": null,
   "metadata": {},
   "outputs": [],
   "source": [
    "#Find empty values\n",
    "empty_values = immo_dataset.isna()\n",
    "\n",
    "#Count the number of empty values in each column\n",
    "empty_count = empty_values.sum()\n",
    "\n",
    "#Display the columns with empty values\n",
    "print(\"Columns with empty values:\")\n",
    "print(empty_count[empty_count > 0])"
   ]
  },
  {
   "attachments": {},
   "cell_type": "markdown",
   "metadata": {},
   "source": [
    "Data Analysis"
   ]
  },
  {
   "cell_type": "code",
   "execution_count": null,
   "metadata": {},
   "outputs": [],
   "source": [
    "immo_dataset.shape"
   ]
  },
  {
   "cell_type": "code",
   "execution_count": null,
   "metadata": {},
   "outputs": [],
   "source": [
    "immo_dataset.info()\n"
   ]
  },
  {
   "cell_type": "code",
   "execution_count": null,
   "metadata": {},
   "outputs": [],
   "source": [
    "missing_percentage = immo_dataset.isna().mean() * 100\n",
    "print(missing_percentage)"
   ]
  },
  {
   "cell_type": "code",
   "execution_count": null,
   "metadata": {},
   "outputs": [],
   "source": [
    "correlation_coefficient = immo_dataset['price'].corr(immo_dataset['habitable_surface'])\n",
    "print(correlation_coefficient)"
   ]
  },
  {
   "attachments": {},
   "cell_type": "markdown",
   "metadata": {},
   "source": [
    "Find correlation between price and other variables"
   ]
  },
  {
   "cell_type": "code",
   "execution_count": null,
   "metadata": {},
   "outputs": [],
   "source": [
    "numeric_columns = ['postal_code', 'price', 'number_of_rooms',\n",
    "                   'is_furnished', 'has_open_fire', 'has_terrace',\n",
    "                   'has_garden', 'habitable_surface', 'has_swimming_pool']\n",
    "\n",
    "categorical_columns = ['region', 'property_type', 'subtype_property', 'type_of_sale']\n",
    "# Convert the categorical 'locality' column to numerical using one-hot encoding\n",
    "encoded_data = pd.get_dummies(immo_dataset, columns=categorical_columns)\n",
    "\n",
    "correlation_coefficient = encoded_data.corr()[['price']]\n",
    "\n",
    "# Print the correlation coefficients\n",
    "\n",
    "print(correlation_coefficient.sort_values(by=['price'], ascending=False))"
   ]
  },
  {
   "cell_type": "code",
   "execution_count": null,
   "metadata": {},
   "outputs": [],
   "source": [
    "#Select the correlation values of \"price\" column with other columns\n",
    "price_correlation = correlation_coefficient['price'].drop('price')\n",
    "print(price_correlation.sort_values(ascending=False))"
   ]
  },
  {
   "cell_type": "code",
   "execution_count": null,
   "metadata": {},
   "outputs": [],
   "source": [
    "# Assuming you have the correlation values stored in the 'price_correlation' variable\n",
    "\n",
    "# Sort the correlation values in descending order\n",
    "sorted_correlation = price_correlation.sort_values(ascending=False)\n",
    "\n",
    "# Plotting the graph\n",
    "plt.figure(figsize=(10, 6))\n",
    "plt.bar(sorted_correlation.index, sorted_correlation.values)\n",
    "plt.xlabel('Columns')\n",
    "plt.ylabel('Correlation Coefficient')\n",
    "plt.title('Correlation between Price and Other Columns')\n",
    "plt.xticks(rotation=60)\n",
    "plt.show()\n"
   ]
  },
  {
   "attachments": {},
   "cell_type": "markdown",
   "metadata": {},
   "source": [
    "How are variables correlated to each other? "
   ]
  },
  {
   "cell_type": "code",
   "execution_count": null,
   "metadata": {},
   "outputs": [],
   "source": [
    "drop_columns_type = ['type_of_sale']\n",
    "immo_dataset_no_type_of_sale = immo_dataset.drop(drop_columns_type, axis=1)\n",
    "immo_dataset_no_type_of_sale.head(10)"
   ]
  },
  {
   "cell_type": "code",
   "execution_count": null,
   "metadata": {},
   "outputs": [],
   "source": [
    "\n",
    "\n",
    "# Assuming you have the dataset stored in the 'immo_dataset' variable\n",
    "\n",
    "# Select the numeric columns for correlation analysis\n",
    "#numeric_columns = immo_dataset.select_dtypes(include=['float64', 'int64']).columns\n",
    "numeric_columns = ['postal_code', 'price', 'number_of_rooms',\n",
    "                   'is_furnished', 'has_open_fire', 'has_terrace',\n",
    "                   'has_garden', 'habitable_surface', 'has_swimming_pool']\n",
    "\n",
    "categorical_columns = ['region', 'property_type', 'subtype_property']\n",
    "# Convert the categorical 'locality' column to numerical using one-hot encoding\n",
    "encoded_data = pd.get_dummies(immo_dataset_no_type_of_sale, columns=categorical_columns)\n",
    "\n",
    "#correlation_coefficient = encoded_data.corr()\n",
    "\n",
    "# Print the correlation coefficients\n",
    "\n",
    "#print(correlation_coefficient)\n",
    "# Calculate the correlation using Pearson method\n",
    "pearson_corr = encoded_data.corr(method='pearson')\n",
    "\n",
    "# Plotting the correlation heatmap\n",
    "plt.figure(figsize=(16, 16))\n",
    "sns.heatmap(pearson_corr, annot=True, cmap='coolwarm')\n",
    "plt.title('Pearson Correlation Heatmap')\n",
    "plt.show()"
   ]
  },
  {
   "cell_type": "code",
   "execution_count": null,
   "metadata": {},
   "outputs": [],
   "source": [
    "# Read the dataset into a pandas DataFrame\n",
    "#data = pd.read_csv(\"your_dataset.csv\")\n",
    "# Select the numeric columns for correlation analysis\n",
    "numeric_columns = immo_dataset.select_dtypes(include=['float64', 'int64']).columns\n",
    "\n",
    "# Calculate the correlation using Pearson method\n",
    "pearson_corr = immo_dataset[numeric_columns].corr(method='pearson')\n",
    "\n",
    "# Calculate the correlation using Spearman method\n",
    "#spearman_corr = immo_dataset[numeric_columns].corr(method='spearman')\n",
    "\n",
    "# Print the correlation values\n",
    "print(\"Pearson correlation:\\n\", pearson_corr)\n",
    "#print(\"\\nSpearman correlation:\\n\", spearman_corr)"
   ]
  },
  {
   "cell_type": "code",
   "execution_count": null,
   "metadata": {},
   "outputs": [],
   "source": [
    "\n",
    "numeric_columns = ['postal_code', 'price', 'number_of_rooms',\n",
    "                   'is_furnished', 'has_open_fire', 'has_terrace',\n",
    "                   'has_garden', 'habitable_surface', 'has_swimming_pool']\n",
    "\n",
    "categorical_columns = ['region', 'property_type', 'subtype_property', 'type_of_sale']\n",
    "# Convert the categorical 'locality' column to numerical using one-hot encoding\n",
    "encoded_data = pd.get_dummies(immo_dataset, columns=categorical_columns)\n",
    "\n",
    "correlation_coefficient = encoded_data.corr()\n",
    "\n",
    "# Print the correlation coefficients\n",
    "\n",
    "print(correlation_coefficient)"
   ]
  },
  {
   "cell_type": "code",
   "execution_count": null,
   "metadata": {},
   "outputs": [],
   "source": [
    "\n",
    "\n",
    "# Assuming you have the dataset stored in the 'immo_dataset' variable\n",
    "\n",
    "# Select the numeric columns for correlation analysis\n",
    "numeric_columns = immo_dataset.select_dtypes(include=['float64', 'int64']).columns\n",
    "\n",
    "# Calculate the correlation using Pearson method\n",
    "pearson_corr = immo_dataset[numeric_columns].corr(method='pearson')\n",
    "\n",
    "# Plotting the correlation heatmap\n",
    "plt.figure(figsize=(10, 8))\n",
    "sns.heatmap(pearson_corr, annot=True, cmap='coolwarm')\n",
    "plt.title('Pearson Correlation Heatmap')\n",
    "plt.show()"
   ]
  },
  {
   "attachments": {},
   "cell_type": "markdown",
   "metadata": {},
   "source": [
    "Which variables have the greatest influence on the price?"
   ]
  },
  {
   "cell_type": "code",
   "execution_count": null,
   "metadata": {},
   "outputs": [],
   "source": []
  },
  {
   "attachments": {},
   "cell_type": "markdown",
   "metadata": {},
   "source": [
    "Which variables have the least influence on the price?"
   ]
  },
  {
   "cell_type": "code",
   "execution_count": null,
   "metadata": {},
   "outputs": [],
   "source": []
  },
  {
   "attachments": {},
   "cell_type": "markdown",
   "metadata": {},
   "source": [
    "How many qualitative and quantitative variables are there? How would you transform these values into numerical values?"
   ]
  },
  {
   "cell_type": "code",
   "execution_count": null,
   "metadata": {},
   "outputs": [],
   "source": []
  },
  {
   "attachments": {},
   "cell_type": "markdown",
   "metadata": {},
   "source": [
    "Percentage of missing values per column?\n",
    "\n",
    "https://campus.datacamp.com/courses/data-manipulation-with-pandas/creating-and-visualizing-dataframes?ex=6\n",
    "\n",
    "https://campus.datacamp.com/courses/dealing-with-missing-data-in-python/the-problem-with-missing-data?ex=5"
   ]
  },
  {
   "cell_type": "code",
   "execution_count": null,
   "metadata": {},
   "outputs": [],
   "source": [
    "missing_percentage = immo_dataset.isna().mean() * 100\n",
    "print(missing_percentage)"
   ]
  },
  {
   "attachments": {},
   "cell_type": "markdown",
   "metadata": {},
   "source": [
    "Step 3 : Data Interpretation"
   ]
  },
  {
   "attachments": {},
   "cell_type": "markdown",
   "metadata": {},
   "source": [
    "Plot the outliers."
   ]
  },
  {
   "cell_type": "code",
   "execution_count": null,
   "metadata": {},
   "outputs": [],
   "source": [
    "#Convert 'price' column to Pandas Series\n",
    "price_series = pd.Series(immo_dataset['price'])\n",
    "\n",
    "#Create the scatter plot\n",
    "plt.scatter(range(len(price_series)), price_series)\n",
    "\n",
    "#Set plot title and labels\n",
    "plt.title('Scatter plot for Price Variation')\n",
    "plt.xlabel('Listing Index')\n",
    "plt.ylabel('Price')\n",
    "\n",
    "#Display the scatter plot\n",
    "plt.show()"
   ]
  },
  {
   "cell_type": "code",
   "execution_count": null,
   "metadata": {},
   "outputs": [],
   "source": [
    "from scipy import stats\n",
    "\n",
    "z_scores = stats.zscore(price_series)\n",
    "threshold = 3  # Choose an appropriate threshold for identifying outliers\n",
    "\n",
    "outliers = price_series[abs(z_scores) > threshold]"
   ]
  },
  {
   "cell_type": "code",
   "execution_count": null,
   "metadata": {},
   "outputs": [],
   "source": [
    "price_series = pd.Series(immo_dataset['price'])\n",
    "##Box plot: A box plot provides a visual representation of the distribution of a dataset, including information about outliers. You can use the boxplot() function from either Matplotlib or Seaborn to create a box plot of the 'price' column.\n",
    "plt.boxplot(price_series)\n",
    "plt.title('Box Plot for Price')\n",
    "plt.ylabel('Price')\n",
    "plt.show()"
   ]
  },
  {
   "attachments": {},
   "cell_type": "markdown",
   "metadata": {},
   "source": [
    "Which variables would you delete and why ?\n"
   ]
  },
  {
   "cell_type": "code",
   "execution_count": null,
   "metadata": {},
   "outputs": [],
   "source": []
  },
  {
   "attachments": {},
   "cell_type": "markdown",
   "metadata": {},
   "source": [
    "Represent the number of properties according to their surface using a histogram.\n"
   ]
  },
  {
   "cell_type": "code",
   "execution_count": null,
   "metadata": {},
   "outputs": [],
   "source": [
    "# Extract the 'habitable_surface' data\n",
    "surface = immo_dataset['habitable_surface']\n",
    "\n",
    "# Determine the bin intervals\n",
    "#bin_width = 50\n",
    "#bins = range(0, int(max(surface)) + bin_width, bin_width)\n",
    "\n",
    "# Create the histogram\n",
    "plt.hist(surface, bins=50, edgecolor='black')\n",
    "\n",
    "# Label the axes and add a title\n",
    "plt.xlabel('Surface (sq. meters)')\n",
    "plt.ylabel('Number of Properties')\n",
    "plt.title('Number of properties according to their surface')\n",
    "\n",
    "# Display the histogram\n",
    "plt.show()\n",
    "\n"
   ]
  },
  {
   "attachments": {},
   "cell_type": "markdown",
   "metadata": {},
   "source": [
    "In your opinion, which 5 variables are the most important and why?\n"
   ]
  },
  {
   "cell_type": "code",
   "execution_count": null,
   "metadata": {},
   "outputs": [],
   "source": []
  },
  {
   "attachments": {},
   "cell_type": "markdown",
   "metadata": {},
   "source": [
    "What are the most expensive municipalities in Belgium? (Average price, median price, price per square meter)\n"
   ]
  },
  {
   "cell_type": "code",
   "execution_count": null,
   "metadata": {},
   "outputs": [],
   "source": []
  },
  {
   "attachments": {},
   "cell_type": "markdown",
   "metadata": {},
   "source": [
    "What are the most expensive municipalities in Wallonia? (Average price, median price, price per square meter)\n"
   ]
  },
  {
   "cell_type": "code",
   "execution_count": null,
   "metadata": {},
   "outputs": [],
   "source": []
  },
  {
   "attachments": {},
   "cell_type": "markdown",
   "metadata": {},
   "source": [
    "What are the most expensive municipalities in Flanders? (Average price, median price, price per square meter)\n"
   ]
  },
  {
   "cell_type": "code",
   "execution_count": null,
   "metadata": {},
   "outputs": [],
   "source": []
  },
  {
   "attachments": {},
   "cell_type": "markdown",
   "metadata": {},
   "source": [
    "What are the less expensive municipalities in Belgium? (Average price, median price, price per square meter)\n"
   ]
  },
  {
   "cell_type": "code",
   "execution_count": null,
   "metadata": {},
   "outputs": [],
   "source": []
  },
  {
   "attachments": {},
   "cell_type": "markdown",
   "metadata": {},
   "source": [
    "What are the less expensive municipalities in Wallonia? (Average price, median price, price per square meter)\n"
   ]
  },
  {
   "cell_type": "code",
   "execution_count": null,
   "metadata": {},
   "outputs": [],
   "source": []
  },
  {
   "attachments": {},
   "cell_type": "markdown",
   "metadata": {},
   "source": [
    "What are the less expensive municipalities in Flanders? (Average price, median price, price per square meter)\n"
   ]
  },
  {
   "cell_type": "code",
   "execution_count": null,
   "metadata": {},
   "outputs": [],
   "source": []
  }
 ],
 "metadata": {
  "kernelspec": {
   "display_name": "env",
   "language": "python",
   "name": "python3"
  },
  "language_info": {
   "codemirror_mode": {
    "name": "ipython",
    "version": 3
   },
   "file_extension": ".py",
   "mimetype": "text/x-python",
   "name": "python",
   "nbconvert_exporter": "python",
   "pygments_lexer": "ipython3",
   "version": "3.11.3"
  },
  "orig_nbformat": 4
 },
 "nbformat": 4,
 "nbformat_minor": 2
}
